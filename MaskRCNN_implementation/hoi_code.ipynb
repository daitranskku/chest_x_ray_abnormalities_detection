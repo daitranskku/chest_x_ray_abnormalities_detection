{
 "cells": [
  {
   "cell_type": "code",
   "execution_count": 2,
   "id": "expired-concert",
   "metadata": {},
   "outputs": [],
   "source": [
    "import pandas as pd"
   ]
  },
  {
   "cell_type": "code",
   "execution_count": 3,
   "id": "powerful-intellectual",
   "metadata": {},
   "outputs": [],
   "source": [
    "file_org = 'submission_28.1_4.csv'\n",
    "file_down = 'submission_down.csv'"
   ]
  },
  {
   "cell_type": "code",
   "execution_count": 18,
   "id": "stock-sentence",
   "metadata": {},
   "outputs": [
    {
     "ename": "TypeError",
     "evalue": "read_csv() got an unexpected keyword argument 'index'",
     "output_type": "error",
     "traceback": [
      "\u001b[0;31m---------------------------------------------------------------------------\u001b[0m",
      "\u001b[0;31mTypeError\u001b[0m                                 Traceback (most recent call last)",
      "\u001b[0;32m<ipython-input-18-c8ef05d285f6>\u001b[0m in \u001b[0;36m<module>\u001b[0;34m\u001b[0m\n\u001b[0;32m----> 1\u001b[0;31m \u001b[0mdf1\u001b[0m \u001b[0;34m=\u001b[0m \u001b[0mpd\u001b[0m\u001b[0;34m.\u001b[0m\u001b[0mread_csv\u001b[0m\u001b[0;34m(\u001b[0m\u001b[0mfile_org\u001b[0m\u001b[0;34m,\u001b[0m \u001b[0mindex\u001b[0m\u001b[0;34m=\u001b[0m\u001b[0;32mFalse\u001b[0m\u001b[0;34m)\u001b[0m\u001b[0;34m\u001b[0m\u001b[0;34m\u001b[0m\u001b[0m\n\u001b[0m\u001b[1;32m      2\u001b[0m \u001b[0mdf2\u001b[0m \u001b[0;34m=\u001b[0m \u001b[0mpd\u001b[0m\u001b[0;34m.\u001b[0m\u001b[0mread_csv\u001b[0m\u001b[0;34m(\u001b[0m\u001b[0mfile_down\u001b[0m\u001b[0;34m)\u001b[0m\u001b[0;34m\u001b[0m\u001b[0;34m\u001b[0m\u001b[0m\n",
      "\u001b[0;31mTypeError\u001b[0m: read_csv() got an unexpected keyword argument 'index'"
     ]
    }
   ],
   "source": [
    "df1 = pd.read_csv(file_org, index=False)\n",
    "df2 = pd.read_csv(file_down)"
   ]
  },
  {
   "cell_type": "code",
   "execution_count": 8,
   "id": "center-burning",
   "metadata": {},
   "outputs": [
    {
     "data": {
      "text/html": [
       "<div>\n",
       "<style scoped>\n",
       "    .dataframe tbody tr th:only-of-type {\n",
       "        vertical-align: middle;\n",
       "    }\n",
       "\n",
       "    .dataframe tbody tr th {\n",
       "        vertical-align: top;\n",
       "    }\n",
       "\n",
       "    .dataframe thead th {\n",
       "        text-align: right;\n",
       "    }\n",
       "</style>\n",
       "<table border=\"1\" class=\"dataframe\">\n",
       "  <thead>\n",
       "    <tr style=\"text-align: right;\">\n",
       "      <th></th>\n",
       "      <th>image_id</th>\n",
       "      <th>PredictionString</th>\n",
       "    </tr>\n",
       "  </thead>\n",
       "  <tbody>\n",
       "    <tr>\n",
       "      <th>0</th>\n",
       "      <td>83caa8a85e03606cf57e49147d7ac569</td>\n",
       "      <td>0 0.2 1057 742 1328 990 3 0.8 814 1164 1737 1496</td>\n",
       "    </tr>\n",
       "    <tr>\n",
       "      <th>1</th>\n",
       "      <td>7550347fa2bb96c2354a3716dfa3a69c</td>\n",
       "      <td>14 1 0 0 1 1</td>\n",
       "    </tr>\n",
       "    <tr>\n",
       "      <th>2</th>\n",
       "      <td>74b23792db329cff5843e36efb8aa65a</td>\n",
       "      <td>14 1 0 0 1 1</td>\n",
       "    </tr>\n",
       "  </tbody>\n",
       "</table>\n",
       "</div>"
      ],
      "text/plain": [
       "                           image_id  \\\n",
       "0  83caa8a85e03606cf57e49147d7ac569   \n",
       "1  7550347fa2bb96c2354a3716dfa3a69c   \n",
       "2  74b23792db329cff5843e36efb8aa65a   \n",
       "\n",
       "                                   PredictionString  \n",
       "0  0 0.2 1057 742 1328 990 3 0.8 814 1164 1737 1496  \n",
       "1                                      14 1 0 0 1 1  \n",
       "2                                      14 1 0 0 1 1  "
      ]
     },
     "execution_count": 8,
     "metadata": {},
     "output_type": "execute_result"
    }
   ],
   "source": [
    "pf2[:3]"
   ]
  },
  {
   "cell_type": "code",
   "execution_count": 20,
   "id": "competitive-hamilton",
   "metadata": {},
   "outputs": [],
   "source": [
    "for index, row in df1.iterrows():    \n",
    "    if df2[df2['image_id'] == row['image_id']]['PredictionString'].to_string(index=False) == '14 1 0 0 1 1':\n",
    "        df1.loc[index]['PredictionString'] = '14 1 0 0 1 1'"
   ]
  },
  {
   "cell_type": "code",
   "execution_count": 22,
   "id": "tropical-beach",
   "metadata": {},
   "outputs": [],
   "source": [
    "df1.to_csv('submission_28.1_5.csv', index=False)"
   ]
  },
  {
   "cell_type": "code",
   "execution_count": null,
   "id": "polish-alert",
   "metadata": {},
   "outputs": [],
   "source": []
  }
 ],
 "metadata": {
  "kernelspec": {
   "display_name": "Python 3",
   "language": "python",
   "name": "python3"
  },
  "language_info": {
   "codemirror_mode": {
    "name": "ipython",
    "version": 3
   },
   "file_extension": ".py",
   "mimetype": "text/x-python",
   "name": "python",
   "nbconvert_exporter": "python",
   "pygments_lexer": "ipython3",
   "version": "3.7.9"
  }
 },
 "nbformat": 4,
 "nbformat_minor": 5
}
