{
 "cells": [
  {
   "cell_type": "markdown",
   "metadata": {
    "pycharm": {
     "name": "#%% md\n"
    }
   },
   "source": [
    "## Preprocessing data for Mask RCNN"
   ]
  },
  {
   "cell_type": "code",
   "execution_count": 1,
   "metadata": {
    "collapsed": false,
    "jupyter": {
     "outputs_hidden": false
    },
    "pycharm": {
     "name": "#%%\n"
    }
   },
   "outputs": [],
   "source": [
    "import os\n",
    "import json\n",
    "import random\n",
    "\n",
    "import pandas as pd\n",
    "import numpy as np\n",
    "import matplotlib.pyplot as plt\n",
    "import seaborn as sns\n",
    "\n",
    "import cv2\n",
    "import itertools\n",
    "from tqdm import tqdm\n",
    "import pydicom\n",
    "from pydicom.pixel_data_handlers.util import apply_voi_lut\n",
    "\n",
    "import warnings\n",
    "warnings.filterwarnings(\"ignore\")"
   ]
  },
  {
   "cell_type": "code",
   "execution_count": 2,
   "metadata": {
    "collapsed": false,
    "jupyter": {
     "outputs_hidden": false
    },
    "pycharm": {
     "name": "#%%\n"
    }
   },
   "outputs": [],
   "source": [
    "DATA_DIR = \"/media/daitran/Data/Kaggle/VinBigData/\"\n",
    "\n",
    "TRAIN_DIR = os.path.join(DATA_DIR, \"train\")\n",
    "TEST_DIR = os.path.join(DATA_DIR, \"test\")\n",
    "\n",
    "TRAIN_CSV_DIR = '/home/daitran/Desktop/research/kaggle/VinBigData/train/512_jpg.csv'\n",
    "\n",
    "SS_CSV_DIR = os.path.join(DATA_DIR, \"sample_submission.csv\")\n",
    "# PREPROCESSED_TRAINING_IMAGE_FOLDER = '/home/daitran/Desktop/research/kaggle/VinBigData/train/full_abnormal_2/'"
   ]
  },
  {
   "cell_type": "code",
   "execution_count": 3,
   "metadata": {
    "collapsed": false,
    "jupyter": {
     "outputs_hidden": false
    },
    "pycharm": {
     "name": "#%%\n"
    }
   },
   "outputs": [],
   "source": [
    "train_df = pd.read_csv(TRAIN_CSV_DIR, converters = {'w_org': eval, 'h_org': eval})\n",
    "# converters ={'EncodedPixels': eval, 'CategoryId': eval})\n",
    "# Extract data with abnormalities only\n",
    "# train_df"
   ]
  },
  {
   "cell_type": "markdown",
   "metadata": {},
   "source": [
    "**So we have 15000 DICOM files, but 67914 labeled rows**"
   ]
  },
  {
   "cell_type": "code",
   "execution_count": 4,
   "metadata": {},
   "outputs": [
    {
     "data": {
      "text/html": [
       "<div>\n",
       "<style scoped>\n",
       "    .dataframe tbody tr th:only-of-type {\n",
       "        vertical-align: middle;\n",
       "    }\n",
       "\n",
       "    .dataframe tbody tr th {\n",
       "        vertical-align: top;\n",
       "    }\n",
       "\n",
       "    .dataframe thead th {\n",
       "        text-align: right;\n",
       "    }\n",
       "</style>\n",
       "<table border=\"1\" class=\"dataframe\">\n",
       "  <thead>\n",
       "    <tr style=\"text-align: right;\">\n",
       "      <th></th>\n",
       "      <th>image_id</th>\n",
       "      <th>class_name</th>\n",
       "      <th>class_id</th>\n",
       "      <th>rad_id</th>\n",
       "      <th>x_min</th>\n",
       "      <th>y_min</th>\n",
       "      <th>x_max</th>\n",
       "      <th>y_max</th>\n",
       "      <th>w_org</th>\n",
       "      <th>h_org</th>\n",
       "      <th>x_min_resized</th>\n",
       "      <th>y_min_resized</th>\n",
       "      <th>x_max_resized</th>\n",
       "      <th>y_max_resized</th>\n",
       "    </tr>\n",
       "  </thead>\n",
       "  <tbody>\n",
       "    <tr>\n",
       "      <th>0</th>\n",
       "      <td>9a5094b2563a1ef3ff50dc5c7ff71345</td>\n",
       "      <td>Cardiomegaly</td>\n",
       "      <td>3</td>\n",
       "      <td>R10</td>\n",
       "      <td>691.0</td>\n",
       "      <td>1375.0</td>\n",
       "      <td>1653.0</td>\n",
       "      <td>1831.0</td>\n",
       "      <td>[2336]</td>\n",
       "      <td>[2080]</td>\n",
       "      <td>[170.09230769]</td>\n",
       "      <td>[301.36986301]</td>\n",
       "      <td>[406.89230769]</td>\n",
       "      <td>[401.31506849]</td>\n",
       "    </tr>\n",
       "    <tr>\n",
       "      <th>1</th>\n",
       "      <td>051132a778e61a86eb147c7c6f564dfe</td>\n",
       "      <td>Aortic enlargement</td>\n",
       "      <td>0</td>\n",
       "      <td>R10</td>\n",
       "      <td>1264.0</td>\n",
       "      <td>743.0</td>\n",
       "      <td>1611.0</td>\n",
       "      <td>1019.0</td>\n",
       "      <td>[2880]</td>\n",
       "      <td>[2304]</td>\n",
       "      <td>[280.88888889]</td>\n",
       "      <td>[132.08888889]</td>\n",
       "      <td>[358.]</td>\n",
       "      <td>[181.15555556]</td>\n",
       "    </tr>\n",
       "    <tr>\n",
       "      <th>2</th>\n",
       "      <td>1c32170b4af4ce1a3030eb8167753b06</td>\n",
       "      <td>Pleural thickening</td>\n",
       "      <td>11</td>\n",
       "      <td>R9</td>\n",
       "      <td>627.0</td>\n",
       "      <td>357.0</td>\n",
       "      <td>947.0</td>\n",
       "      <td>433.0</td>\n",
       "      <td>[3072]</td>\n",
       "      <td>[2540]</td>\n",
       "      <td>[126.38740157]</td>\n",
       "      <td>[59.5]</td>\n",
       "      <td>[190.89133858]</td>\n",
       "      <td>[72.16666667]</td>\n",
       "    </tr>\n",
       "    <tr>\n",
       "      <th>3</th>\n",
       "      <td>0c7a38f293d5f5e4846aa4ca6db4daf1</td>\n",
       "      <td>ILD</td>\n",
       "      <td>5</td>\n",
       "      <td>R17</td>\n",
       "      <td>1347.0</td>\n",
       "      <td>245.0</td>\n",
       "      <td>2188.0</td>\n",
       "      <td>2169.0</td>\n",
       "      <td>[2555]</td>\n",
       "      <td>[2285]</td>\n",
       "      <td>[301.82231947]</td>\n",
       "      <td>[49.09589041]</td>\n",
       "      <td>[490.26520788]</td>\n",
       "      <td>[434.64892368]</td>\n",
       "    </tr>\n",
       "    <tr>\n",
       "      <th>4</th>\n",
       "      <td>47ed17dcb2cbeec15182ed335a8b5a9e</td>\n",
       "      <td>Nodule/Mass</td>\n",
       "      <td>8</td>\n",
       "      <td>R9</td>\n",
       "      <td>557.0</td>\n",
       "      <td>2352.0</td>\n",
       "      <td>675.0</td>\n",
       "      <td>2484.0</td>\n",
       "      <td>[3353]</td>\n",
       "      <td>[2568]</td>\n",
       "      <td>[111.0529595]</td>\n",
       "      <td>[359.14822547]</td>\n",
       "      <td>[134.57943925]</td>\n",
       "      <td>[379.30450343]</td>\n",
       "    </tr>\n",
       "    <tr>\n",
       "      <th>...</th>\n",
       "      <td>...</td>\n",
       "      <td>...</td>\n",
       "      <td>...</td>\n",
       "      <td>...</td>\n",
       "      <td>...</td>\n",
       "      <td>...</td>\n",
       "      <td>...</td>\n",
       "      <td>...</td>\n",
       "      <td>...</td>\n",
       "      <td>...</td>\n",
       "      <td>...</td>\n",
       "      <td>...</td>\n",
       "      <td>...</td>\n",
       "      <td>...</td>\n",
       "    </tr>\n",
       "    <tr>\n",
       "      <th>36091</th>\n",
       "      <td>b53d1dd80e99ca6bcef9d592f65d3321</td>\n",
       "      <td>Pleural effusion</td>\n",
       "      <td>10</td>\n",
       "      <td>R9</td>\n",
       "      <td>240.0</td>\n",
       "      <td>1550.0</td>\n",
       "      <td>562.0</td>\n",
       "      <td>2001.0</td>\n",
       "      <td>[2880]</td>\n",
       "      <td>[2304]</td>\n",
       "      <td>[53.33333333]</td>\n",
       "      <td>[275.55555556]</td>\n",
       "      <td>[124.88888889]</td>\n",
       "      <td>[355.73333333]</td>\n",
       "    </tr>\n",
       "    <tr>\n",
       "      <th>36092</th>\n",
       "      <td>26d1d5a0ef2e692c6340e74859ffdc53</td>\n",
       "      <td>Pulmonary fibrosis</td>\n",
       "      <td>13</td>\n",
       "      <td>R10</td>\n",
       "      <td>1163.0</td>\n",
       "      <td>787.0</td>\n",
       "      <td>1338.0</td>\n",
       "      <td>941.0</td>\n",
       "      <td>[3072]</td>\n",
       "      <td>[3072]</td>\n",
       "      <td>[193.83333333]</td>\n",
       "      <td>[131.16666667]</td>\n",
       "      <td>[223.]</td>\n",
       "      <td>[156.83333333]</td>\n",
       "    </tr>\n",
       "    <tr>\n",
       "      <th>36093</th>\n",
       "      <td>22672ab82c290c20b86863291e25ef6c</td>\n",
       "      <td>ILD</td>\n",
       "      <td>5</td>\n",
       "      <td>R9</td>\n",
       "      <td>299.0</td>\n",
       "      <td>664.0</td>\n",
       "      <td>794.0</td>\n",
       "      <td>1508.0</td>\n",
       "      <td>[2500]</td>\n",
       "      <td>[2048]</td>\n",
       "      <td>[74.75]</td>\n",
       "      <td>[135.9872]</td>\n",
       "      <td>[198.5]</td>\n",
       "      <td>[308.8384]</td>\n",
       "    </tr>\n",
       "    <tr>\n",
       "      <th>36094</th>\n",
       "      <td>db169d0be36123bd55b866d6aa73983b</td>\n",
       "      <td>Other lesion</td>\n",
       "      <td>9</td>\n",
       "      <td>R8</td>\n",
       "      <td>6.0</td>\n",
       "      <td>670.0</td>\n",
       "      <td>272.0</td>\n",
       "      <td>1736.0</td>\n",
       "      <td>[2880]</td>\n",
       "      <td>[2304]</td>\n",
       "      <td>[1.33333333]</td>\n",
       "      <td>[119.11111111]</td>\n",
       "      <td>[60.44444444]</td>\n",
       "      <td>[308.62222222]</td>\n",
       "    </tr>\n",
       "    <tr>\n",
       "      <th>36095</th>\n",
       "      <td>4b56bc6d22b192f075f13231419dfcc8</td>\n",
       "      <td>Cardiomegaly</td>\n",
       "      <td>3</td>\n",
       "      <td>R8</td>\n",
       "      <td>771.0</td>\n",
       "      <td>979.0</td>\n",
       "      <td>1680.0</td>\n",
       "      <td>1311.0</td>\n",
       "      <td>[2040]</td>\n",
       "      <td>[1968]</td>\n",
       "      <td>[200.58536585]</td>\n",
       "      <td>[245.70980392]</td>\n",
       "      <td>[437.07317073]</td>\n",
       "      <td>[329.03529412]</td>\n",
       "    </tr>\n",
       "  </tbody>\n",
       "</table>\n",
       "<p>36096 rows × 14 columns</p>\n",
       "</div>"
      ],
      "text/plain": [
       "                               image_id          class_name  class_id rad_id  \\\n",
       "0      9a5094b2563a1ef3ff50dc5c7ff71345        Cardiomegaly         3    R10   \n",
       "1      051132a778e61a86eb147c7c6f564dfe  Aortic enlargement         0    R10   \n",
       "2      1c32170b4af4ce1a3030eb8167753b06  Pleural thickening        11     R9   \n",
       "3      0c7a38f293d5f5e4846aa4ca6db4daf1                 ILD         5    R17   \n",
       "4      47ed17dcb2cbeec15182ed335a8b5a9e         Nodule/Mass         8     R9   \n",
       "...                                 ...                 ...       ...    ...   \n",
       "36091  b53d1dd80e99ca6bcef9d592f65d3321    Pleural effusion        10     R9   \n",
       "36092  26d1d5a0ef2e692c6340e74859ffdc53  Pulmonary fibrosis        13    R10   \n",
       "36093  22672ab82c290c20b86863291e25ef6c                 ILD         5     R9   \n",
       "36094  db169d0be36123bd55b866d6aa73983b        Other lesion         9     R8   \n",
       "36095  4b56bc6d22b192f075f13231419dfcc8        Cardiomegaly         3     R8   \n",
       "\n",
       "        x_min   y_min   x_max   y_max   w_org   h_org   x_min_resized  \\\n",
       "0       691.0  1375.0  1653.0  1831.0  [2336]  [2080]  [170.09230769]   \n",
       "1      1264.0   743.0  1611.0  1019.0  [2880]  [2304]  [280.88888889]   \n",
       "2       627.0   357.0   947.0   433.0  [3072]  [2540]  [126.38740157]   \n",
       "3      1347.0   245.0  2188.0  2169.0  [2555]  [2285]  [301.82231947]   \n",
       "4       557.0  2352.0   675.0  2484.0  [3353]  [2568]   [111.0529595]   \n",
       "...       ...     ...     ...     ...     ...     ...             ...   \n",
       "36091   240.0  1550.0   562.0  2001.0  [2880]  [2304]   [53.33333333]   \n",
       "36092  1163.0   787.0  1338.0   941.0  [3072]  [3072]  [193.83333333]   \n",
       "36093   299.0   664.0   794.0  1508.0  [2500]  [2048]         [74.75]   \n",
       "36094     6.0   670.0   272.0  1736.0  [2880]  [2304]    [1.33333333]   \n",
       "36095   771.0   979.0  1680.0  1311.0  [2040]  [1968]  [200.58536585]   \n",
       "\n",
       "        y_min_resized   x_max_resized   y_max_resized  \n",
       "0      [301.36986301]  [406.89230769]  [401.31506849]  \n",
       "1      [132.08888889]          [358.]  [181.15555556]  \n",
       "2              [59.5]  [190.89133858]   [72.16666667]  \n",
       "3       [49.09589041]  [490.26520788]  [434.64892368]  \n",
       "4      [359.14822547]  [134.57943925]  [379.30450343]  \n",
       "...               ...             ...             ...  \n",
       "36091  [275.55555556]  [124.88888889]  [355.73333333]  \n",
       "36092  [131.16666667]          [223.]  [156.83333333]  \n",
       "36093      [135.9872]         [198.5]      [308.8384]  \n",
       "36094  [119.11111111]   [60.44444444]  [308.62222222]  \n",
       "36095  [245.70980392]  [437.07317073]  [329.03529412]  \n",
       "\n",
       "[36096 rows x 14 columns]"
      ]
     },
     "execution_count": 4,
     "metadata": {},
     "output_type": "execute_result"
    }
   ],
   "source": [
    "train_df = train_df.query('class_id != 14')\n",
    "# train_df = train_df.query(\"rad_id == 'R9'\")\n",
    "train_df"
   ]
  },
  {
   "cell_type": "markdown",
   "metadata": {},
   "source": [
    "**If considering only abnormal cases, we have 36096 cases**"
   ]
  },
  {
   "cell_type": "markdown",
   "metadata": {},
   "source": [
    "Visualize data distribution"
   ]
  },
  {
   "cell_type": "markdown",
   "metadata": {
    "pycharm": {
     "name": "#%% md\n"
    }
   },
   "source": [
    "### Helper functions for converting bounding boxes to the right format for Mask RCNN"
   ]
  },
  {
   "cell_type": "code",
   "execution_count": 5,
   "metadata": {
    "collapsed": false,
    "jupyter": {
     "outputs_hidden": false
    },
    "pycharm": {
     "name": "#%%\n"
    }
   },
   "outputs": [],
   "source": [
    "def get_mask(img_dimensions, x_min, y_min, x_max, y_max):\n",
    "    img_height, img_width = img_dimensions\n",
    "    img_mask = np.full((img_height,img_width),0)\n",
    "    img_mask[y_min:y_max,x_min:x_max] = 255\n",
    "    return img_mask.astype(np.float32)\n",
    "\n",
    "def rle_encoding(x):\n",
    "    dots = np.where(x.T.flatten() == 255)[0]\n",
    "    run_lengths = []\n",
    "    prev = -2\n",
    "    for b in dots:\n",
    "        if (b>prev+1): run_lengths.extend((b + 1, 0))\n",
    "        run_lengths[-1] += 1\n",
    "        prev = b\n",
    "    return ' '.join([str(x) for x in run_lengths])"
   ]
  },
  {
   "cell_type": "markdown",
   "metadata": {
    "pycharm": {
     "name": "#%% md\n"
    }
   },
   "source": [
    "### Function convert DICOM data to np.array\n"
   ]
  },
  {
   "cell_type": "code",
   "execution_count": 6,
   "metadata": {
    "collapsed": false,
    "jupyter": {
     "outputs_hidden": false
    },
    "pycharm": {
     "name": "#%%\n"
    }
   },
   "outputs": [],
   "source": [
    "def dicom2array(path, voi_lut=True, fix_monochrome=True):\n",
    "    dicom = pydicom.read_file(path)\n",
    "    # VOI LUT (if available by DICOM device) is used to\n",
    "    # transform raw DICOM data to \"human-friendly\" view\n",
    "    if voi_lut:\n",
    "        data = apply_voi_lut(dicom.pixel_array, dicom)\n",
    "    else:\n",
    "        data = dicom.pixel_array\n",
    "    # depending on this value, X-ray may look inverted - fix that:\n",
    "    if fix_monochrome and dicom.PhotometricInterpretation == \"MONOCHROME1\":\n",
    "        data = np.amax(data) - data\n",
    "\n",
    "    data = data - np.min(data)\n",
    "    data = data / np.max(data)\n",
    "    data = (data * 255).astype(np.uint8)\n",
    "\n",
    "    return data\n"
   ]
  },
  {
   "cell_type": "markdown",
   "metadata": {},
   "source": [
    "# Accelarate cv2.imwrite "
   ]
  },
  {
   "cell_type": "code",
   "execution_count": 7,
   "metadata": {},
   "outputs": [],
   "source": [
    "import glob\n",
    "import os\n",
    "import cv2\n",
    "import concurrent.futures"
   ]
  },
  {
   "cell_type": "code",
   "execution_count": 50,
   "metadata": {
    "collapsed": false,
    "jupyter": {
     "outputs_hidden": false
    },
    "pycharm": {
     "name": "#%%\n"
    }
   },
   "outputs": [
    {
     "name": "stderr",
     "output_type": "stream",
     "text": [
      "100%|██████████| 36096/36096 [3:39:32<00:00,  2.74it/s]  \n"
     ]
    }
   ],
   "source": [
    "# def generate_data(train_df_sample = train_df):\n",
    "diagnostic_per_image = []\n",
    "\n",
    "image_size=512\n",
    "with tqdm(total=len(train_df)) as pbar:\n",
    "    for idx,row in train_df.iterrows():\n",
    "        image_id = row.image_id\n",
    "        image_df = train_df.query(\"image_id==@image_id\")\n",
    "#         print(image_df)\n",
    "#         print(image_df['w_org'][0])\n",
    "#         print(image_df)\n",
    "#         w_org = int(np.array(image_df['w_org'][0]))\n",
    "#         h_org = int(np.array(image_df['h_org'][0]))\n",
    "#         print(image_df)\n",
    "        \n",
    "        class_list = []\n",
    "        RLE_list = []\n",
    "\n",
    "        for diagnostic_id, diagnostic in image_df.iterrows():\n",
    "            \n",
    "            \n",
    "            w_org = np.array(diagnostic.w_org[0])\n",
    "            h_org = np.array(diagnostic.h_org[0])\n",
    "            \n",
    "            class_list.append(diagnostic.class_id)\n",
    "\n",
    "            dicom_image = np.zeros((w_org, h_org))\n",
    "#             dicom_image = dicom2array(TRAIN_DIR + '/' + image_id+\".dicom\")\n",
    "            image_dimensions = dicom_image.shape\n",
    "\n",
    "            resized_img = cv2.resize(dicom_image, (image_size,image_size), interpolation = cv2.INTER_AREA)\n",
    "\n",
    "# #             os.chdir(PREPROCESSED_TRAINING_IMAGE_FOLDER)\n",
    "#             # print(PREPROCESSED_TRAINING_IMAGE_FOLDER+ image_id+ \".jpg\")\n",
    "\n",
    "# #             cv2.imwrite(PREPROCESSED_TRAINING_IMAGE_FOLDER+ image_id+ \".jpg\", resized_img)\n",
    "\n",
    "            mask = get_mask(image_dimensions, int(diagnostic.x_min), int(diagnostic.y_min), int(diagnostic.x_max), int(diagnostic.y_max))\n",
    "            resized_mask = cv2.resize(mask, (image_size,image_size))\n",
    "            RLE_list.append(rle_encoding(resized_mask))\n",
    "        diagnostic_per_image.append({\"image_id\":image_id,\n",
    "                                     \"CategoryId\":class_list,\n",
    "                                     \"EncodedPixels\":RLE_list})\n",
    "        pbar.update(1)\n",
    "#     return diagnostic_per_image"
   ]
  },
  {
   "cell_type": "code",
   "execution_count": 51,
   "metadata": {},
   "outputs": [],
   "source": [
    "samples_df = pd.DataFrame(diagnostic_per_image)"
   ]
  },
  {
   "cell_type": "code",
   "execution_count": 54,
   "metadata": {},
   "outputs": [
    {
     "data": {
      "text/plain": [
       "'/home/daitran/Desktop/git/chest_x_ray_abnormalities_detection/MaskRCNN_implementation'"
      ]
     },
     "execution_count": 54,
     "metadata": {},
     "output_type": "execute_result"
    }
   ],
   "source": [
    "os.getcwd()"
   ]
  },
  {
   "cell_type": "code",
   "execution_count": 55,
   "metadata": {},
   "outputs": [],
   "source": [
    "samples_df.to_csv('maskrcnn_df_png512.csv', index = False)"
   ]
  },
  {
   "cell_type": "code",
   "execution_count": 52,
   "metadata": {},
   "outputs": [
    {
     "data": {
      "text/html": [
       "<div>\n",
       "<style scoped>\n",
       "    .dataframe tbody tr th:only-of-type {\n",
       "        vertical-align: middle;\n",
       "    }\n",
       "\n",
       "    .dataframe tbody tr th {\n",
       "        vertical-align: top;\n",
       "    }\n",
       "\n",
       "    .dataframe thead th {\n",
       "        text-align: right;\n",
       "    }\n",
       "</style>\n",
       "<table border=\"1\" class=\"dataframe\">\n",
       "  <thead>\n",
       "    <tr style=\"text-align: right;\">\n",
       "      <th></th>\n",
       "      <th>image_id</th>\n",
       "      <th>CategoryId</th>\n",
       "      <th>EncodedPixels</th>\n",
       "    </tr>\n",
       "  </thead>\n",
       "  <tbody>\n",
       "    <tr>\n",
       "      <th>0</th>\n",
       "      <td>9a5094b2563a1ef3ff50dc5c7ff71345</td>\n",
       "      <td>[3, 10, 11, 3, 3, 0]</td>\n",
       "      <td>[87342 100 87854 100 88366 100 88878 100 89390...</td>\n",
       "    </tr>\n",
       "    <tr>\n",
       "      <th>1</th>\n",
       "      <td>051132a778e61a86eb147c7c6f564dfe</td>\n",
       "      <td>[0, 0, 3, 3, 11, 0, 3]</td>\n",
       "      <td>[144005 49 144517 49 145029 49 145541 49 14605...</td>\n",
       "    </tr>\n",
       "    <tr>\n",
       "      <th>2</th>\n",
       "      <td>1c32170b4af4ce1a3030eb8167753b06</td>\n",
       "      <td>[11, 13, 11, 13, 13, 13, 11, 13, 13]</td>\n",
       "      <td>[64573 12 65085 12 65597 12 66109 12 66621 12 ...</td>\n",
       "    </tr>\n",
       "    <tr>\n",
       "      <th>3</th>\n",
       "      <td>0c7a38f293d5f5e4846aa4ca6db4daf1</td>\n",
       "      <td>[5, 5, 8, 5, 9]</td>\n",
       "      <td>[154674 386 155186 386 155698 386 156210 386 1...</td>\n",
       "    </tr>\n",
       "    <tr>\n",
       "      <th>4</th>\n",
       "      <td>47ed17dcb2cbeec15182ed335a8b5a9e</td>\n",
       "      <td>[8, 9, 8, 9, 9, 8, 7, 7]</td>\n",
       "      <td>[57192 20 57704 20 58216 20 58728 20 59240 20 ...</td>\n",
       "    </tr>\n",
       "    <tr>\n",
       "      <th>...</th>\n",
       "      <td>...</td>\n",
       "      <td>...</td>\n",
       "      <td>...</td>\n",
       "    </tr>\n",
       "    <tr>\n",
       "      <th>36091</th>\n",
       "      <td>b53d1dd80e99ca6bcef9d592f65d3321</td>\n",
       "      <td>[0, 10, 13, 6, 4, 13, 10, 10]</td>\n",
       "      <td>[128138 69 128650 69 129162 69 129674 69 13018...</td>\n",
       "    </tr>\n",
       "    <tr>\n",
       "      <th>36092</th>\n",
       "      <td>26d1d5a0ef2e692c6340e74859ffdc53</td>\n",
       "      <td>[8, 10, 10, 13, 9, 11, 13, 9, 13, 11, 0, 8, 13...</td>\n",
       "      <td>[117317 12 117829 12 118341 12 118853 12 11936...</td>\n",
       "    </tr>\n",
       "    <tr>\n",
       "      <th>36093</th>\n",
       "      <td>22672ab82c290c20b86863291e25ef6c</td>\n",
       "      <td>[5, 11, 10, 9, 10, 9, 11, 5, 13, 13, 11, 13, 1...</td>\n",
       "      <td>[38500 211 39012 211 39524 211 40036 211 40548...</td>\n",
       "    </tr>\n",
       "    <tr>\n",
       "      <th>36094</th>\n",
       "      <td>db169d0be36123bd55b866d6aa73983b</td>\n",
       "      <td>[10, 9, 9, 9, 0, 11, 7, 0, 9, 9, 13, 9, 9, 9, 9]</td>\n",
       "      <td>[5429 49 5941 49 6453 49 6965 49 7477 49 7989 ...</td>\n",
       "    </tr>\n",
       "    <tr>\n",
       "      <th>36095</th>\n",
       "      <td>4b56bc6d22b192f075f13231419dfcc8</td>\n",
       "      <td>[11, 11, 10, 0, 7, 10, 10, 7, 0, 0, 3, 3]</td>\n",
       "      <td>[230176 39 230688 39 231200 39 231712 39 23222...</td>\n",
       "    </tr>\n",
       "  </tbody>\n",
       "</table>\n",
       "<p>36096 rows × 3 columns</p>\n",
       "</div>"
      ],
      "text/plain": [
       "                               image_id  \\\n",
       "0      9a5094b2563a1ef3ff50dc5c7ff71345   \n",
       "1      051132a778e61a86eb147c7c6f564dfe   \n",
       "2      1c32170b4af4ce1a3030eb8167753b06   \n",
       "3      0c7a38f293d5f5e4846aa4ca6db4daf1   \n",
       "4      47ed17dcb2cbeec15182ed335a8b5a9e   \n",
       "...                                 ...   \n",
       "36091  b53d1dd80e99ca6bcef9d592f65d3321   \n",
       "36092  26d1d5a0ef2e692c6340e74859ffdc53   \n",
       "36093  22672ab82c290c20b86863291e25ef6c   \n",
       "36094  db169d0be36123bd55b866d6aa73983b   \n",
       "36095  4b56bc6d22b192f075f13231419dfcc8   \n",
       "\n",
       "                                              CategoryId  \\\n",
       "0                                   [3, 10, 11, 3, 3, 0]   \n",
       "1                                 [0, 0, 3, 3, 11, 0, 3]   \n",
       "2                   [11, 13, 11, 13, 13, 13, 11, 13, 13]   \n",
       "3                                        [5, 5, 8, 5, 9]   \n",
       "4                               [8, 9, 8, 9, 9, 8, 7, 7]   \n",
       "...                                                  ...   \n",
       "36091                      [0, 10, 13, 6, 4, 13, 10, 10]   \n",
       "36092  [8, 10, 10, 13, 9, 11, 13, 9, 13, 11, 0, 8, 13...   \n",
       "36093  [5, 11, 10, 9, 10, 9, 11, 5, 13, 13, 11, 13, 1...   \n",
       "36094   [10, 9, 9, 9, 0, 11, 7, 0, 9, 9, 13, 9, 9, 9, 9]   \n",
       "36095          [11, 11, 10, 0, 7, 10, 10, 7, 0, 0, 3, 3]   \n",
       "\n",
       "                                           EncodedPixels  \n",
       "0      [87342 100 87854 100 88366 100 88878 100 89390...  \n",
       "1      [144005 49 144517 49 145029 49 145541 49 14605...  \n",
       "2      [64573 12 65085 12 65597 12 66109 12 66621 12 ...  \n",
       "3      [154674 386 155186 386 155698 386 156210 386 1...  \n",
       "4      [57192 20 57704 20 58216 20 58728 20 59240 20 ...  \n",
       "...                                                  ...  \n",
       "36091  [128138 69 128650 69 129162 69 129674 69 13018...  \n",
       "36092  [117317 12 117829 12 118341 12 118853 12 11936...  \n",
       "36093  [38500 211 39012 211 39524 211 40036 211 40548...  \n",
       "36094  [5429 49 5941 49 6453 49 6965 49 7477 49 7989 ...  \n",
       "36095  [230176 39 230688 39 231200 39 231712 39 23222...  \n",
       "\n",
       "[36096 rows x 3 columns]"
      ]
     },
     "execution_count": 52,
     "metadata": {},
     "output_type": "execute_result"
    }
   ],
   "source": [
    "samples_df"
   ]
  },
  {
   "cell_type": "code",
   "execution_count": 56,
   "metadata": {},
   "outputs": [],
   "source": [
    "# diagnostic_per_image = generate_data(train_df_sample = train_df)\n",
    "# SAVING .CSV\n",
    "# os.chdir(PREPROCESSED_TRAINING_IMAGE_FOLDER)\n",
    "image_size=512\n",
    "# samples_df = pd.DataFrame(diagnostic_per_image)\n",
    "samples_df[\"Height\"] = image_size\n",
    "samples_df[\"Width\"] = image_size\n",
    "samples_df.head()\n",
    "#\n",
    "samples_df.to_csv('sample_df.csv', index=False)\n"
   ]
  },
  {
   "cell_type": "code",
   "execution_count": 27,
   "metadata": {
    "collapsed": false,
    "jupyter": {
     "outputs_hidden": false
    },
    "pycharm": {
     "name": "#%%\n"
    }
   },
   "outputs": [],
   "source": [
    "# SAVING .CSV\n",
    "os.chdir(PREPROCESSED_TRAINING_IMAGE_FOLDER)\n",
    "image_size=512\n",
    "samples_df = pd.DataFrame(diagnostic_per_image)\n",
    "samples_df[\"Height\"] = image_size\n",
    "samples_df[\"Width\"] = image_size\n",
    "samples_df.head()\n",
    "#\n",
    "samples_df.to_csv('sample_df.csv', index=False)"
   ]
  },
  {
   "cell_type": "code",
   "execution_count": null,
   "metadata": {},
   "outputs": [],
   "source": []
  }
 ],
 "metadata": {
  "kernelspec": {
   "display_name": "PyCharm (git)",
   "language": "python",
   "name": "pycharm-c8902959"
  },
  "language_info": {
   "codemirror_mode": {
    "name": "ipython",
    "version": 3
   },
   "file_extension": ".py",
   "mimetype": "text/x-python",
   "name": "python",
   "nbconvert_exporter": "python",
   "pygments_lexer": "ipython3",
   "version": "3.7.9"
  }
 },
 "nbformat": 4,
 "nbformat_minor": 4
}
