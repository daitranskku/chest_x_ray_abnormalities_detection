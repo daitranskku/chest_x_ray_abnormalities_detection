{
 "cells": [
  {
   "cell_type": "markdown",
   "metadata": {
    "pycharm": {
     "name": "#%% md\n"
    }
   },
   "source": [
    "# Mask RCNN Implementation"
   ]
  },
  {
   "cell_type": "markdown",
   "metadata": {
    "pycharm": {
     "name": "#%% md\n"
    }
   },
   "source": [
    "## Preprocessing data for Mask RCNN"
   ]
  },
  {
   "cell_type": "code",
   "execution_count": 1,
   "metadata": {
    "collapsed": false,
    "jupyter": {
     "outputs_hidden": false
    },
    "pycharm": {
     "name": "#%%\n"
    }
   },
   "outputs": [
    {
     "name": "stdout",
     "output_type": "stream",
     "text": [
      "GPU is available\n"
     ]
    }
   ],
   "source": [
    "import tensorflow as tf\n",
    "gpu = len(tf.config.list_physical_devices('GPU'))>0\n",
    "print(\"GPU is\", \"available\" if gpu else \"NOT AVAILABLE\")"
   ]
  },
  {
   "cell_type": "code",
   "execution_count": 2,
   "metadata": {
    "collapsed": false,
    "jupyter": {
     "outputs_hidden": false
    },
    "pycharm": {
     "name": "#%%\n"
    }
   },
   "outputs": [],
   "source": [
    "import os\n",
    "import json\n",
    "import random\n",
    "\n",
    "import pandas as pd\n",
    "import numpy as np\n",
    "import matplotlib.pyplot as plt\n",
    "import seaborn as sns\n",
    "\n",
    "import cv2\n",
    "import itertools\n",
    "from tqdm import tqdm\n",
    "import pydicom\n",
    "from pydicom.pixel_data_handlers.util import apply_voi_lut\n",
    "\n",
    "import warnings\n",
    "warnings.filterwarnings(\"ignore\")"
   ]
  },
  {
   "cell_type": "code",
   "execution_count": 3,
   "metadata": {
    "collapsed": false,
    "jupyter": {
     "outputs_hidden": false
    },
    "pycharm": {
     "name": "#%%\n"
    }
   },
   "outputs": [],
   "source": [
    "DATA_DIR = \"E:/Kaggle/VinBigData/\"\n",
    "\n",
    "TRAIN_DIR = os.path.join(DATA_DIR, \"train\")\n",
    "TEST_DIR = os.path.join(DATA_DIR, \"test\")\n",
    "TRAIN_CSV_DIR = os.path.join(DATA_DIR, \"train.csv\")\n",
    "SS_CSV_DIR = os.path.join(DATA_DIR, \"sample_submission.csv\")\n",
    "\n",
    "PREPROCESSED_TRAINING_IMAGE_FOLDER = 'C:/Users/windows/Desktop/Research/3. Code/0_github_code/chest_x_ray_abnormalities_detection/MaskRCNN_implementation/converted_data/train/filtered_data/'"
   ]
  },
  {
   "cell_type": "code",
   "execution_count": 4,
   "metadata": {},
   "outputs": [],
   "source": [
    "orin_df = pd.read_csv(TRAIN_CSV_DIR)\n",
    "orin_df = orin_df.query('class_id != 14')"
   ]
  },
  {
   "cell_type": "markdown",
   "metadata": {
    "pycharm": {
     "name": "#%% md\n"
    }
   },
   "source": [
    "### Helper functions for converting bounding boxes to the right format for Mask RCNN"
   ]
  },
  {
   "cell_type": "code",
   "execution_count": 5,
   "metadata": {
    "collapsed": false,
    "jupyter": {
     "outputs_hidden": false
    },
    "pycharm": {
     "name": "#%%\n"
    }
   },
   "outputs": [],
   "source": [
    "def get_mask(img_dimensions, x_min, y_min, x_max, y_max):\n",
    "    img_height, img_width = img_dimensions\n",
    "    img_mask = np.full((img_height,img_width),0)\n",
    "    img_mask[y_min:y_max,x_min:x_max] = 255\n",
    "    return img_mask.astype(np.float32)\n",
    "def rle_encoding(x):\n",
    "    dots = np.where(x.T.flatten() == 255)[0]\n",
    "    run_lengths = []\n",
    "    prev = -2\n",
    "    for b in dots:\n",
    "        if (b>prev+1): run_lengths.extend((b + 1, 0))\n",
    "        run_lengths[-1] += 1\n",
    "        prev = b\n",
    "    return ' '.join([str(x) for x in run_lengths])"
   ]
  },
  {
   "cell_type": "markdown",
   "metadata": {
    "pycharm": {
     "name": "#%% md\n"
    }
   },
   "source": [
    "### Function convert DICOM data to np.array\n"
   ]
  },
  {
   "cell_type": "code",
   "execution_count": 6,
   "metadata": {
    "collapsed": false,
    "jupyter": {
     "outputs_hidden": false
    },
    "pycharm": {
     "name": "#%%\n"
    }
   },
   "outputs": [],
   "source": [
    "def dicom2array(path, voi_lut=True, fix_monochrome=True):\n",
    "    dicom = pydicom.read_file(path)\n",
    "    # VOI LUT (if available by DICOM device) is used to\n",
    "    # transform raw DICOM data to \"human-friendly\" view\n",
    "    if voi_lut:\n",
    "        data = apply_voi_lut(dicom.pixel_array, dicom)\n",
    "    else:\n",
    "        data = dicom.pixel_array\n",
    "    # depending on this value, X-ray may look inverted - fix that:\n",
    "    if fix_monochrome and dicom.PhotometricInterpretation == \"MONOCHROME1\":\n",
    "        data = np.amax(data) - data\n",
    "\n",
    "    data = data - np.min(data)\n",
    "    data = data / np.max(data)\n",
    "    data = (data * 255).astype(np.uint8)\n",
    "\n",
    "    return data\n"
   ]
  },
  {
   "cell_type": "markdown",
   "metadata": {},
   "source": [
    "### Load data"
   ]
  },
  {
   "cell_type": "markdown",
   "metadata": {},
   "source": [
    "#### Load img and encoded label data"
   ]
  },
  {
   "cell_type": "code",
   "execution_count": 7,
   "metadata": {
    "collapsed": false,
    "jupyter": {
     "outputs_hidden": false
    },
    "pycharm": {
     "name": "#%%\n"
    }
   },
   "outputs": [],
   "source": [
    "training_df = pd.read_csv('C:/Users/windows/Desktop/Research/3. Code/0_github_code/chest_x_ray_abnormalities_detection/MaskRCNN_implementation/converted_data/train/filtered_data/sample_df.csv', converters ={'EncodedPixels': eval, 'CategoryId': eval})"
   ]
  },
  {
   "cell_type": "code",
   "execution_count": 8,
   "metadata": {},
   "outputs": [
    {
     "data": {
      "text/html": [
       "<div>\n",
       "<style scoped>\n",
       "    .dataframe tbody tr th:only-of-type {\n",
       "        vertical-align: middle;\n",
       "    }\n",
       "\n",
       "    .dataframe tbody tr th {\n",
       "        vertical-align: top;\n",
       "    }\n",
       "\n",
       "    .dataframe thead th {\n",
       "        text-align: right;\n",
       "    }\n",
       "</style>\n",
       "<table border=\"1\" class=\"dataframe\">\n",
       "  <thead>\n",
       "    <tr style=\"text-align: right;\">\n",
       "      <th></th>\n",
       "      <th>image_id</th>\n",
       "      <th>CategoryId</th>\n",
       "      <th>EncodedPixels</th>\n",
       "      <th>Height</th>\n",
       "      <th>Width</th>\n",
       "    </tr>\n",
       "  </thead>\n",
       "  <tbody>\n",
       "    <tr>\n",
       "      <th>0</th>\n",
       "      <td>1c32170b4af4ce1a3030eb8167753b06</td>\n",
       "      <td>[11]</td>\n",
       "      <td>[64573 12 65085 12 65597 12 66109 12 66621 12 ...</td>\n",
       "      <td>512</td>\n",
       "      <td>512</td>\n",
       "    </tr>\n",
       "    <tr>\n",
       "      <th>1</th>\n",
       "      <td>347180362348e522905047dde655b6d7</td>\n",
       "      <td>[11]</td>\n",
       "      <td>[148011 13 148523 13 149035 13 149547 13 15005...</td>\n",
       "      <td>512</td>\n",
       "      <td>512</td>\n",
       "    </tr>\n",
       "    <tr>\n",
       "      <th>2</th>\n",
       "      <td>b42e930c16c0166dbeae813b47bb8b07</td>\n",
       "      <td>[11, 13]</td>\n",
       "      <td>[168516 29 169028 29 169540 29 170052 29 17056...</td>\n",
       "      <td>512</td>\n",
       "      <td>512</td>\n",
       "    </tr>\n",
       "    <tr>\n",
       "      <th>3</th>\n",
       "      <td>2d063af5457785f5c76ae1e6c06c0037</td>\n",
       "      <td>[11, 11]</td>\n",
       "      <td>[146502 21 147014 21 147526 21 148038 21 14855...</td>\n",
       "      <td>512</td>\n",
       "      <td>512</td>\n",
       "    </tr>\n",
       "    <tr>\n",
       "      <th>4</th>\n",
       "      <td>231a4b73de5ac7e0218f736b6b6ff1f2</td>\n",
       "      <td>[11]</td>\n",
       "      <td>[92233 10 92745 10 93257 10 93769 10 94281 10 ...</td>\n",
       "      <td>512</td>\n",
       "      <td>512</td>\n",
       "    </tr>\n",
       "    <tr>\n",
       "      <th>...</th>\n",
       "      <td>...</td>\n",
       "      <td>...</td>\n",
       "      <td>...</td>\n",
       "      <td>...</td>\n",
       "      <td>...</td>\n",
       "    </tr>\n",
       "    <tr>\n",
       "      <th>1045</th>\n",
       "      <td>f25a910b0e75a30296bb0350b2a648bd</td>\n",
       "      <td>[10, 12]</td>\n",
       "      <td>[29885 168 30397 168 30909 168 31421 168 31933...</td>\n",
       "      <td>512</td>\n",
       "      <td>512</td>\n",
       "    </tr>\n",
       "    <tr>\n",
       "      <th>1046</th>\n",
       "      <td>d1bcef094e9b8c86c70192220b8e1648</td>\n",
       "      <td>[12]</td>\n",
       "      <td>[182860 125 183372 125 183884 125 184396 125 1...</td>\n",
       "      <td>512</td>\n",
       "      <td>512</td>\n",
       "    </tr>\n",
       "    <tr>\n",
       "      <th>1047</th>\n",
       "      <td>f3e804892343e3b12e2542939d9101a6</td>\n",
       "      <td>[10, 12]</td>\n",
       "      <td>[46777 97 47289 97 47801 97 48313 97 48825 97 ...</td>\n",
       "      <td>512</td>\n",
       "      <td>512</td>\n",
       "    </tr>\n",
       "    <tr>\n",
       "      <th>1048</th>\n",
       "      <td>4e3a3b03cf00a9060ac139f57843a241</td>\n",
       "      <td>[12]</td>\n",
       "      <td>[157254 87 157766 87 158278 87 158790 87 15930...</td>\n",
       "      <td>512</td>\n",
       "      <td>512</td>\n",
       "    </tr>\n",
       "    <tr>\n",
       "      <th>1049</th>\n",
       "      <td>75692666e09ea0a3cbfcc4b36241c7c0</td>\n",
       "      <td>[12]</td>\n",
       "      <td>[148532 344 149044 344 149556 344 150068 344 1...</td>\n",
       "      <td>512</td>\n",
       "      <td>512</td>\n",
       "    </tr>\n",
       "  </tbody>\n",
       "</table>\n",
       "<p>1050 rows × 5 columns</p>\n",
       "</div>"
      ],
      "text/plain": [
       "                              image_id CategoryId  \\\n",
       "0     1c32170b4af4ce1a3030eb8167753b06       [11]   \n",
       "1     347180362348e522905047dde655b6d7       [11]   \n",
       "2     b42e930c16c0166dbeae813b47bb8b07   [11, 13]   \n",
       "3     2d063af5457785f5c76ae1e6c06c0037   [11, 11]   \n",
       "4     231a4b73de5ac7e0218f736b6b6ff1f2       [11]   \n",
       "...                                ...        ...   \n",
       "1045  f25a910b0e75a30296bb0350b2a648bd   [10, 12]   \n",
       "1046  d1bcef094e9b8c86c70192220b8e1648       [12]   \n",
       "1047  f3e804892343e3b12e2542939d9101a6   [10, 12]   \n",
       "1048  4e3a3b03cf00a9060ac139f57843a241       [12]   \n",
       "1049  75692666e09ea0a3cbfcc4b36241c7c0       [12]   \n",
       "\n",
       "                                          EncodedPixels  Height  Width  \n",
       "0     [64573 12 65085 12 65597 12 66109 12 66621 12 ...     512    512  \n",
       "1     [148011 13 148523 13 149035 13 149547 13 15005...     512    512  \n",
       "2     [168516 29 169028 29 169540 29 170052 29 17056...     512    512  \n",
       "3     [146502 21 147014 21 147526 21 148038 21 14855...     512    512  \n",
       "4     [92233 10 92745 10 93257 10 93769 10 94281 10 ...     512    512  \n",
       "...                                                 ...     ...    ...  \n",
       "1045  [29885 168 30397 168 30909 168 31421 168 31933...     512    512  \n",
       "1046  [182860 125 183372 125 183884 125 184396 125 1...     512    512  \n",
       "1047  [46777 97 47289 97 47801 97 48313 97 48825 97 ...     512    512  \n",
       "1048  [157254 87 157766 87 158278 87 158790 87 15930...     512    512  \n",
       "1049  [148532 344 149044 344 149556 344 150068 344 1...     512    512  \n",
       "\n",
       "[1050 rows x 5 columns]"
      ]
     },
     "execution_count": 8,
     "metadata": {},
     "output_type": "execute_result"
    }
   ],
   "source": [
    "samples_df = training_df\n",
    "samples_df"
   ]
  },
  {
   "cell_type": "markdown",
   "metadata": {
    "pycharm": {
     "name": "#%% md\n"
    }
   },
   "source": [
    "## Implement Mask RCNN"
   ]
  },
  {
   "cell_type": "code",
   "execution_count": 9,
   "metadata": {
    "collapsed": false,
    "jupyter": {
     "outputs_hidden": false
    },
    "pycharm": {
     "name": "#%%\n"
    }
   },
   "outputs": [],
   "source": [
    "from mrcnn.config import Config\n",
    "from mrcnn import utils\n",
    "import mrcnn.model as modellib\n",
    "from mrcnn import visualize\n",
    "from mrcnn.model import log"
   ]
  },
  {
   "cell_type": "code",
   "execution_count": 10,
   "metadata": {
    "collapsed": false,
    "jupyter": {
     "outputs_hidden": false
    },
    "pycharm": {
     "name": "#%%\n"
    }
   },
   "outputs": [],
   "source": [
    "NUM_CATS = 14\n",
    "IMAGE_SIZE = 512"
   ]
  },
  {
   "cell_type": "code",
   "execution_count": 11,
   "metadata": {
    "collapsed": false,
    "jupyter": {
     "outputs_hidden": false
    },
    "pycharm": {
     "name": "#%%\n"
    }
   },
   "outputs": [
    {
     "name": "stdout",
     "output_type": "stream",
     "text": [
      "\n",
      "Configurations:\n",
      "BACKBONE                       resnet50\n",
      "BACKBONESHAPE                  (8, 16, 24, 32, 48)\n",
      "BACKBONE_STRIDES               [4, 8, 16, 32, 64]\n",
      "BATCH_SIZE                     2\n",
      "BBOX_STD_DEV                   [0.1 0.1 0.2 0.2]\n",
      "COMPUTE_BACKBONE_SHAPE         None\n",
      "DETECTION_MAX_INSTANCES        300\n",
      "DETECTION_MIN_CONFIDENCE       0.7\n",
      "DETECTION_NMS_THRESHOLD        0.3\n",
      "FPN_CLASSIF_FC_LAYERS_SIZE     1024\n",
      "GPU_COUNT                      1\n",
      "GRADIENT_CLIP_NORM             5.0\n",
      "IMAGES_PER_GPU                 2\n",
      "IMAGE_CHANNEL_COUNT            3\n",
      "IMAGE_MAX_DIM                  512\n",
      "IMAGE_META_SIZE                27\n",
      "IMAGE_MIN_DIM                  512\n",
      "IMAGE_MIN_SCALE                0\n",
      "IMAGE_RESIZE_MODE              none\n",
      "IMAGE_SHAPE                    [512 512   3]\n",
      "LEARNING_MOMENTUM              0.9\n",
      "LEARNING_RATE                  0.001\n",
      "LOSS_WEIGHTS                   {'rpn_class_loss': 1.0, 'rpn_bbox_loss': 1.0, 'mrcnn_class_loss': 1.0, 'mrcnn_bbox_loss': 1.0, 'mrcnn_mask_loss': 1.0}\n",
      "MASK_POOL_SIZE                 14\n",
      "MASK_SHAPE                     [28, 28]\n",
      "MAX_GROUNDTRUTH_INSTANCES      5\n",
      "MAX_GT_INSTANCES               100\n",
      "MEAN_PIXEL                     [123.7 116.8 103.9]\n",
      "MINI_MASK_SHAPE                (56, 56)\n",
      "NAME                           Diagnostic\n",
      "NUM_CLASSES                    15\n",
      "POOL_SIZE                      7\n",
      "POST_NMS_ROIS_INFERENCE        150\n",
      "POST_NMS_ROIS_TRAINING         250\n",
      "PRE_NMS_LIMIT                  6000\n",
      "ROI_POSITIVE_RATIO             0.33\n",
      "RPN_ANCHOR_RATIOS              [0.5, 1, 2]\n",
      "RPN_ANCHOR_SCALES              (8, 16, 24, 32, 48)\n",
      "RPN_ANCHOR_STRIDE              1\n",
      "RPN_BBOX_STD_DEV               [0.1 0.1 0.2 0.2]\n",
      "RPN_NMS_THRESHOLD              0.7\n",
      "RPN_TRAIN_ANCHORS_PER_IMAGE    256\n",
      "STEPS_PER_EPOCH                472\n",
      "TOP_DOWN_PYRAMID_SIZE          256\n",
      "TRAIN_BN                       False\n",
      "TRAIN_ROIS_PER_IMAGE           200\n",
      "USE_MINI_MASK                  True\n",
      "USE_RPN_ROIS                   True\n",
      "VALIDATION_STEPS               578\n",
      "WEIGHT_DECAY                   0.0001\n",
      "\n",
      "\n"
     ]
    }
   ],
   "source": [
    "class DiagnosticConfig(Config):\n",
    "    NAME = \"Diagnostic\"\n",
    "    NUM_CLASSES = NUM_CATS + 1 # +1 for the background class\n",
    "\n",
    "    GPU_COUNT = 1\n",
    "    IMAGES_PER_GPU = 2 #That is the maximum with the memory available on kernels\n",
    "\n",
    "    BACKBONE = 'resnet50'\n",
    "\n",
    "    IMAGE_MIN_DIM = IMAGE_SIZE\n",
    "    IMAGE_MAX_DIM = IMAGE_SIZE\n",
    "    IMAGE_RESIZE_MODE = 'none'\n",
    "\n",
    "    POST_NMS_ROIS_TRAINING = 250\n",
    "    POST_NMS_ROIS_INFERENCE = 150\n",
    "    MAX_GROUNDTRUTH_INSTANCES = 5\n",
    "    BACKBONE_STRIDES = [4, 8, 16, 32, 64]\n",
    "    BACKBONESHAPE = (8, 16, 24, 32, 48)\n",
    "    RPN_ANCHOR_SCALES = (8,16,24,32,48)\n",
    "    ROI_POSITIVE_RATIO = 0.33\n",
    "    DETECTION_MAX_INSTANCES = 300\n",
    "    DETECTION_MIN_CONFIDENCE = 0.7\n",
    "    # STEPS_PER_EPOCH should be the number of instances\n",
    "    # divided by (GPU_COUNT*IMAGES_PER_GPU), and so should VALIDATION_STEPS;\n",
    "    # however, due to the time limit, I set them so that this kernel can be run in 9 hours\n",
    "    STEPS_PER_EPOCH = int(len(samples_df)*0.9/IMAGES_PER_GPU)\n",
    "    VALIDATION_STEPS = len(samples_df)-int(len(samples_df)*0.9/IMAGES_PER_GPU)\n",
    "\n",
    "config = DiagnosticConfig()\n",
    "config.display()"
   ]
  },
  {
   "cell_type": "code",
   "execution_count": 12,
   "metadata": {
    "collapsed": false,
    "jupyter": {
     "outputs_hidden": false
    },
    "pycharm": {
     "name": "#%%\n"
    }
   },
   "outputs": [],
   "source": [
    "category_list = orin_df.class_name.unique()"
   ]
  },
  {
   "cell_type": "code",
   "execution_count": 13,
   "metadata": {},
   "outputs": [
    {
     "data": {
      "text/plain": [
       "array(['Cardiomegaly', 'Aortic enlargement', 'Pleural thickening', 'ILD',\n",
       "       'Nodule/Mass', 'Pulmonary fibrosis', 'Lung Opacity', 'Atelectasis',\n",
       "       'Other lesion', 'Infiltration', 'Pleural effusion',\n",
       "       'Calcification', 'Consolidation', 'Pneumothorax'], dtype=object)"
      ]
     },
     "execution_count": 13,
     "metadata": {},
     "output_type": "execute_result"
    }
   ],
   "source": [
    "category_list"
   ]
  },
  {
   "cell_type": "code",
   "execution_count": 14,
   "metadata": {
    "collapsed": false,
    "jupyter": {
     "outputs_hidden": false
    },
    "pycharm": {
     "name": "#%%\n"
    }
   },
   "outputs": [],
   "source": [
    "class DiagnosticDataset(utils.Dataset):\n",
    "    def __init__(self, df):\n",
    "        super().__init__(self)\n",
    "\n",
    "        # Add classes\n",
    "        for i, name in enumerate(category_list):\n",
    "            self.add_class(\"diagnostic\", i+1, name)\n",
    "\n",
    "        # Add images\n",
    "        for i, row in df.iterrows():\n",
    "            self.add_image(\"diagnostic\",\n",
    "                           image_id=row.name,\n",
    "                           path= PREPROCESSED_TRAINING_IMAGE_FOLDER+str(row.image_id)+\".jpg\",\n",
    "                           labels=row['CategoryId'],\n",
    "                           annotations=row['EncodedPixels'],\n",
    "                           height=row['Height'], width=row['Width'])\n",
    "\n",
    "    def image_reference(self, image_id):\n",
    "        info = self.image_info[image_id]\n",
    "        return info['path'], [category_list[int(x)] for x in info['labels']]\n",
    "\n",
    "    def load_image(self, image_id):\n",
    "\n",
    "        return cv2.imread(self.image_info[image_id]['path'])\n",
    "\n",
    "    def load_mask(self, image_id):\n",
    "        info = self.image_info[image_id]\n",
    "\n",
    "        mask = np.zeros((IMAGE_SIZE, IMAGE_SIZE, len(info['annotations'])), dtype=np.uint8)\n",
    "        labels = []\n",
    "        for m, (annotation, label) in enumerate(zip(info['annotations'], info['labels'])):\n",
    "            sub_mask = np.full(info['height']*info['width'], 0, dtype=np.uint8)\n",
    "\n",
    "            annotation = [int(x) for x in annotation.split(' ')]\n",
    "\n",
    "            for i, start_pixel in enumerate(annotation[::2]):\n",
    "                sub_mask[start_pixel: start_pixel+annotation[2*i+1]] = 1\n",
    "\n",
    "            sub_mask = sub_mask.reshape((info['height'], info['width']), order='F')\n",
    "            sub_mask = cv2.resize(sub_mask, (IMAGE_SIZE, IMAGE_SIZE), interpolation=cv2.INTER_NEAREST)\n",
    "\n",
    "            mask[:, :, m] = sub_mask\n",
    "            labels.append(int(label)+1)\n",
    "        return mask, np.array(labels)"
   ]
  },
  {
   "cell_type": "code",
   "execution_count": 15,
   "metadata": {
    "collapsed": false,
    "jupyter": {
     "outputs_hidden": false
    },
    "pycharm": {
     "name": "#%%\n"
    }
   },
   "outputs": [],
   "source": [
    "training_percentage = 0.9\n",
    "\n",
    "training_set_size = int(training_percentage*len(samples_df))\n",
    "validation_set_size = int((1-training_percentage)*len(samples_df))\n",
    "\n",
    "train_dataset = DiagnosticDataset(samples_df[:training_set_size])\n",
    "train_dataset.prepare()\n",
    "\n",
    "valid_dataset = DiagnosticDataset(samples_df[training_set_size:training_set_size+validation_set_size])\n",
    "valid_dataset.prepare()"
   ]
  },
  {
   "cell_type": "code",
   "execution_count": 16,
   "metadata": {
    "collapsed": false,
    "jupyter": {
     "outputs_hidden": false
    },
    "pycharm": {
     "name": "#%%\n"
    }
   },
   "outputs": [
    {
     "data": {
      "image/png": "[encoded data removed]",
      "text/plain": [
       "<Figure size 1008x288 with 6 Axes>"
      ]
     },
     "metadata": {
      "needs_background": "light"
     },
     "output_type": "display_data"
    },
    {
     "data": {
      "image/png": "[encoded data removed]",
      "text/plain": [
       "<Figure size 1008x288 with 6 Axes>"
      ]
     },
     "metadata": {
      "needs_background": "light"
     },
     "output_type": "display_data"
    },
    {
     "data": {
      "image/png": "[encoded data removed]",
      "text/plain": [
       "<Figure size 1008x288 with 6 Axes>"
      ]
     },
     "metadata": {
      "needs_background": "light"
     },
     "output_type": "display_data"
    },
    {
     "data": {
      "image/png": "[encoded data removed]",
      "text/plain": [
       "<Figure size 1008x288 with 6 Axes>"
      ]
     },
     "metadata": {
      "needs_background": "light"
     },
     "output_type": "display_data"
    },
    {
     "data": {
      "image/png": "[encoded data removed]",
      "text/plain": [
       "<Figure size 1008x288 with 6 Axes>"
      ]
     },
     "metadata": {
      "needs_background": "light"
     },
     "output_type": "display_data"
    }
   ],
   "source": [
    "for i in range(0,5):\n",
    "    image_id = random.choice(train_dataset.image_ids)\n",
    "    # print(image_id)\n",
    "    image = train_dataset.load_image(image_id)\n",
    "    mask, class_ids = train_dataset.load_mask(image_id)\n",
    "\n",
    "    \n",
    "    visualize.display_top_masks(image, mask, class_ids, train_dataset.class_names, limit=5)"
   ]
  },
  {
   "cell_type": "code",
   "execution_count": 17,
   "metadata": {
    "collapsed": false,
    "jupyter": {
     "outputs_hidden": false
    },
    "pycharm": {
     "name": "#%%\n"
    }
   },
   "outputs": [],
   "source": [
    "WEIGHT_PATH = 'C:/Users/windows/Desktop/Research/3. Code/0_github_code/chest_x_ray_abnormalities_detection/MaskRCNN_implementation/weights/mask_rcnn_coco.h5'"
   ]
  },
  {
   "cell_type": "code",
   "execution_count": 24,
   "metadata": {
    "collapsed": false,
    "jupyter": {
     "outputs_hidden": false
    },
    "pycharm": {
     "name": "#%%\n"
    }
   },
   "outputs": [],
   "source": [
    "LR = 1e-3\n",
    "EPOCHS = 15\n",
    "\n",
    "model = modellib.MaskRCNN(mode='training', config=config, model_dir=\"\")\n",
    "\n",
    "model.load_weights(WEIGHT_PATH, by_name=True, exclude=['mrcnn_class_logits', 'mrcnn_bbox_fc', 'mrcnn_bbox', 'mrcnn_mask'])"
   ]
  },
  {
   "cell_type": "code",
   "execution_count": 25,
   "metadata": {
    "collapsed": false,
    "jupyter": {
     "outputs_hidden": false
    },
    "pycharm": {
     "name": "#%%\n"
    }
   },
   "outputs": [
    {
     "name": "stdout",
     "output_type": "stream",
     "text": [
      "\n",
      "Starting at epoch 0. LR=0.001\n",
      "\n",
      "Checkpoint Path: diagnostic20210113T1237\\mask_rcnn_diagnostic_{epoch:04d}.h5\n",
      "Selecting layers to train\n",
      "fpn_c5p5               (Conv2D)\n",
      "fpn_c4p4               (Conv2D)\n",
      "fpn_c3p3               (Conv2D)\n",
      "fpn_c2p2               (Conv2D)\n",
      "fpn_p5                 (Conv2D)\n",
      "fpn_p2                 (Conv2D)\n",
      "fpn_p3                 (Conv2D)\n",
      "fpn_p4                 (Conv2D)\n",
      "In model:  rpn_model\n",
      "    rpn_conv_shared        (Conv2D)\n",
      "    rpn_class_raw          (Conv2D)\n",
      "    rpn_bbox_pred          (Conv2D)\n",
      "mrcnn_mask_conv1       (TimeDistributed)\n",
      "mrcnn_mask_bn1         (TimeDistributed)\n",
      "mrcnn_mask_conv2       (TimeDistributed)\n",
      "mrcnn_mask_bn2         (TimeDistributed)\n",
      "mrcnn_class_conv1      (TimeDistributed)\n",
      "mrcnn_class_bn1        (TimeDistributed)\n",
      "mrcnn_mask_conv3       (TimeDistributed)\n",
      "mrcnn_mask_bn3         (TimeDistributed)\n",
      "mrcnn_class_conv2      (TimeDistributed)\n",
      "mrcnn_class_bn2        (TimeDistributed)\n",
      "mrcnn_mask_conv4       (TimeDistributed)\n",
      "mrcnn_mask_bn4         (TimeDistributed)\n",
      "mrcnn_bbox_fc          (TimeDistributed)\n",
      "mrcnn_mask_deconv      (TimeDistributed)\n",
      "mrcnn_class_logits     (TimeDistributed)\n",
      "mrcnn_mask             (TimeDistributed)\n",
      "WARNING:tensorflow:Model failed to serialize as JSON. Ignoring... can't pickle _thread.RLock objects\n",
      "Epoch 1/15\n",
      "471/472 [============================>.] - ETA: 0s - loss: 3.3632 - rpn_class_loss: 0.0227 - rpn_bbox_loss: 2.4979 - mrcnn_class_loss: 0.0438 - mrcnn_bbox_loss: 0.4876 - mrcnn_mask_loss: 0.3112Epoch 1/15\n",
      "578/472 [====================================] - 63s 108ms/step - loss: 3.7992 - rpn_class_loss: 0.0212 - rpn_bbox_loss: 3.2204 - mrcnn_class_loss: 0.0387 - mrcnn_bbox_loss: 0.4951 - mrcnn_mask_loss: 0.3418\n",
      "472/472 [==============================] - 219s 465ms/step - loss: 3.3603 - rpn_class_loss: 0.0228 - rpn_bbox_loss: 2.4957 - mrcnn_class_loss: 0.0438 - mrcnn_bbox_loss: 0.4868 - mrcnn_mask_loss: 0.3113 - val_loss: 4.1171 - val_rpn_class_loss: 0.0212 - val_rpn_bbox_loss: 3.2204 - val_mrcnn_class_loss: 0.0387 - val_mrcnn_bbox_loss: 0.4951 - val_mrcnn_mask_loss: 0.3418\n",
      "Epoch 2/15\n",
      "471/472 [============================>.] - ETA: 0s - loss: 3.1344 - rpn_class_loss: 0.0186 - rpn_bbox_loss: 2.1823 - mrcnn_class_loss: 0.0380 - mrcnn_bbox_loss: 0.5226 - mrcnn_mask_loss: 0.3728Epoch 1/15\n",
      "578/472 [====================================] - 60s 104ms/step - loss: 4.4762 - rpn_class_loss: 0.0190 - rpn_bbox_loss: 3.0043 - mrcnn_class_loss: 0.0643 - mrcnn_bbox_loss: 0.5930 - mrcnn_mask_loss: 0.3894\n",
      "472/472 [==============================] - 171s 362ms/step - loss: 3.1341 - rpn_class_loss: 0.0187 - rpn_bbox_loss: 2.1821 - mrcnn_class_loss: 0.0380 - mrcnn_bbox_loss: 0.5226 - mrcnn_mask_loss: 0.3728 - val_loss: 4.0700 - val_rpn_class_loss: 0.0190 - val_rpn_bbox_loss: 3.0043 - val_mrcnn_class_loss: 0.0643 - val_mrcnn_bbox_loss: 0.5930 - val_mrcnn_mask_loss: 0.3894\n",
      "Epoch 3/15\n",
      "471/472 [============================>.] - ETA: 0s - loss: 2.9092 - rpn_class_loss: 0.0180 - rpn_bbox_loss: 2.0104 - mrcnn_class_loss: 0.0394 - mrcnn_bbox_loss: 0.4753 - mrcnn_mask_loss: 0.3661Epoch 1/15\n",
      "578/472 [====================================] - 58s 101ms/step - loss: 3.6977 - rpn_class_loss: 0.0210 - rpn_bbox_loss: 2.9589 - mrcnn_class_loss: 0.0431 - mrcnn_bbox_loss: 0.5541 - mrcnn_mask_loss: 0.3404\n",
      "472/472 [==============================] - 167s 354ms/step - loss: 2.9047 - rpn_class_loss: 0.0179 - rpn_bbox_loss: 2.0078 - mrcnn_class_loss: 0.0393 - mrcnn_bbox_loss: 0.4743 - mrcnn_mask_loss: 0.3653 - val_loss: 3.9175 - val_rpn_class_loss: 0.0210 - val_rpn_bbox_loss: 2.9589 - val_mrcnn_class_loss: 0.0431 - val_mrcnn_bbox_loss: 0.5541 - val_mrcnn_mask_loss: 0.3404\n",
      "Epoch 4/15\n",
      "471/472 [============================>.] - ETA: 0s - loss: 2.6936 - rpn_class_loss: 0.0179 - rpn_bbox_loss: 1.8286 - mrcnn_class_loss: 0.0435 - mrcnn_bbox_loss: 0.4414 - mrcnn_mask_loss: 0.3622Epoch 1/15\n",
      "578/472 [====================================] - 58s 100ms/step - loss: 3.6399 - rpn_class_loss: 0.0179 - rpn_bbox_loss: 3.0405 - mrcnn_class_loss: 0.0202 - mrcnn_bbox_loss: 0.4027 - mrcnn_mask_loss: 0.2875\n",
      "472/472 [==============================] - 164s 347ms/step - loss: 2.6905 - rpn_class_loss: 0.0179 - rpn_bbox_loss: 1.8260 - mrcnn_class_loss: 0.0435 - mrcnn_bbox_loss: 0.4410 - mrcnn_mask_loss: 0.3621 - val_loss: 3.7687 - val_rpn_class_loss: 0.0179 - val_rpn_bbox_loss: 3.0405 - val_mrcnn_class_loss: 0.0202 - val_mrcnn_bbox_loss: 0.4027 - val_mrcnn_mask_loss: 0.2875\n",
      "Epoch 5/15\n",
      "471/472 [============================>.] - ETA: 0s - loss: 2.4911 - rpn_class_loss: 0.0169 - rpn_bbox_loss: 1.6700 - mrcnn_class_loss: 0.0430 - mrcnn_bbox_loss: 0.4067 - mrcnn_mask_loss: 0.3546Epoch 1/15\n",
      "578/472 [====================================] - 58s 101ms/step - loss: 4.0589 - rpn_class_loss: 0.0211 - rpn_bbox_loss: 2.8793 - mrcnn_class_loss: 0.0476 - mrcnn_bbox_loss: 0.4590 - mrcnn_mask_loss: 0.3456loss: 3.5891 - rpn_class_loss: 0.0203 - rpn_bbox_loss: 2.7262 - mrcnn_class_loss:  - ETA: 42s - loss: 3.8007 - rpn_class_loss: 0.0201 - rpn_bbox_loss: 2.8544 - mrcnn_class_loss: 0.0523 - mrcnn_b - ETA: 39s - loss: 3.8906 - rpn_class_loss: 0.0204 - rpn_bbox_loss: 2.9816 - mrcnn_class_loss: 0.0495 - mrcnn_bbo - ETA: 37s - loss: 3.7067 - rpn_class_loss: 0.0204 - rpn_bbox_loss: 2.8360 - mrcnn_class_loss: 0.0462 - mrcnn_bbox_loss - ETA: 36s - loss: 3.7009 - rpn_class_loss: 0.0205 - rpn_bbox_loss: 2.8386 -  - ETA: 32s - loss: 3.7655 - rpn_class_loss: 0.0210 - rpn_ - ETA: 11s - loss: 3.\n",
      "472/472 [==============================] - 164s 348ms/step - loss: 2.4875 - rpn_class_loss: 0.0169 - rpn_bbox_loss: 1.6680 - mrcnn_class_loss: 0.0429 - mrcnn_bbox_loss: 0.4058 - mrcnn_mask_loss: 0.3539 - val_loss: 3.7526 - val_rpn_class_loss: 0.0211 - val_rpn_bbox_loss: 2.8793 - val_mrcnn_class_loss: 0.0476 - val_mrcnn_bbox_loss: 0.4590 - val_mrcnn_mask_loss: 0.3456\n",
      "Epoch 6/15\n",
      "471/472 [============================>.] - ETA: 0s - loss: 2.3283 - rpn_class_loss: 0.0161 - rpn_bbox_loss: 1.5216 - mrcnn_class_loss: 0.0439 - mrcnn_bbox_loss: 0.3908 - mrcnn_mask_loss: 0.3560Epoch 1/15\n",
      "578/472 [====================================] - 58s 100ms/step - loss: 3.8065 - rpn_class_loss: 0.0180 - rpn_bbox_loss: 2.7726 - mrcnn_class_loss: 0.0561 - mrcnn_bbox_loss: 0.4714 - mrcnn_mask_loss: 0.3917loss: 3.8255 - rpn_class_loss: 0.0183 - rpn_bbox_loss: 2.7918 - mrcnn_class_loss: 0.0652 - mrcnn_bbox_loss: 0.5322 - mrc - ETA: 44s - loss:  - ETA: 37s - loss: 3.7719 - rpn_class_loss: 0 -  - ETA: 8s - loss: 3.7128 - rpn_class_loss: 0.0179 - rpn_bbox_loss: 2.7\n",
      "472/472 [==============================] - 162s 344ms/step - loss: 2.3285 - rpn_class_loss: 0.0161 - rpn_bbox_loss: 1.5214 - mrcnn_class_loss: 0.0440 - mrcnn_bbox_loss: 0.3908 - mrcnn_mask_loss: 0.3562 - val_loss: 3.7098 - val_rpn_class_loss: 0.0180 - val_rpn_bbox_loss: 2.7726 - val_mrcnn_class_loss: 0.0561 - val_mrcnn_bbox_loss: 0.4714 - val_mrcnn_mask_loss: 0.3917\n",
      "Epoch 7/15\n",
      "471/472 [============================>.] - ETA: 0s - loss: 2.1767 - rpn_class_loss: 0.0156 - rpn_bbox_loss: 1.3801 - mrcnn_class_loss: 0.0500 - mrcnn_bbox_loss: 0.3778 - mrcnn_mask_loss: 0.3532Epoch 1/15\n",
      "578/472 [====================================] - 58s 100ms/step - loss: 3.9267 - rpn_class_loss: 0.0190 - rpn_bbox_loss: 2.8474 - mrcnn_class_loss: 0.0679 - mrcnn_bbox_loss: 0.4751 - mrcnn_mask_loss: 0.3627loss: 3.7615 - rpn_class_loss: 0.0192 - rp\n",
      "472/472 [==============================] - 163s 345ms/step - loss: 2.1766 - rpn_class_loss: 0.0156 - rpn_bbox_loss: 1.3817 - mrcnn_class_loss: 0.0499 - mrcnn_bbox_loss: 0.3770 - mrcnn_mask_loss: 0.3525 - val_loss: 3.7722 - val_rpn_class_loss: 0.0190 - val_rpn_bbox_loss: 2.8474 - val_mrcnn_class_loss: 0.0679 - val_mrcnn_bbox_loss: 0.4751 - val_mrcnn_mask_loss: 0.3627\n",
      "Epoch 8/15\n",
      "471/472 [============================>.] - ETA: 0s - loss: 2.0194 - rpn_class_loss: 0.0153 - rpn_bbox_loss: 1.2656 - mrcnn_class_loss: 0.0490 - mrcnn_bbox_loss: 0.3441 - mrcnn_mask_loss: 0.3454Epoch 1/15\n",
      "578/472 [====================================] - 58s 100ms/step - loss: 3.5293 - rpn_class_loss: 0.0225 - rpn_bbox_loss: 2.7517 - mrcnn_class_loss: 0.0504 - mrcnn_bbox_loss: 0.4462 - mrcnn_mask_loss: 0.3538oss: 3.6141 - rpn_class_loss: 0.0224 - rpn_bbox_loss: 2.7324 - mrcnn_class_loss: 0.0509 - mrcnn_bbox_loss: 0.4501 - mrcnn_mask\n",
      "472/472 [==============================] - 163s 344ms/step - loss: 2.0191 - rpn_class_loss: 0.0153 - rpn_bbox_loss: 1.2652 - mrcnn_class_loss: 0.0491 - mrcnn_bbox_loss: 0.3440 - mrcnn_mask_loss: 0.3454 - val_loss: 3.6247 - val_rpn_class_loss: 0.0225 - val_rpn_bbox_loss: 2.7517 - val_mrcnn_class_loss: 0.0504 - val_mrcnn_bbox_loss: 0.4462 - val_mrcnn_mask_loss: 0.3538\n",
      "Epoch 9/15\n",
      "471/472 [============================>.] - ETA: 0s - loss: 1.9030 - rpn_class_loss: 0.0155 - rpn_bbox_loss: 1.1642 - mrcnn_class_loss: 0.0533 - mrcnn_bbox_loss: 0.3223 - mrcnn_mask_loss: 0.3478- ETA: 1s - loss: 1.9008 - rpn_class_loss: 0.0155 - rpn_bbox_loss: 1.1647 - mrcnn_class_loss: 0.0532 - mrcnn_bbox_loss: 0.3199 - mrcnn_mask_loss: 0.Epoch 1/15\n",
      "578/472 [====================================] - 58s 100ms/step - loss: 3.3613 - rpn_class_loss: 0.0186 - rpn_bbox_loss: 2.6118 - mrcnn_class_loss: 0.0446 - mrcnn_bbox_loss: 0.4301 - mrcnn_mask_loss: 0.3326loss: 3.2298 - rpn_class_loss: 0.0198 - rpn_bbox_loss: 2.5882 - mrcnn_class_loss: 0. - ETA: 4\n",
      "472/472 [==============================] - 162s 344ms/step - loss: 1.9007 - rpn_class_loss: 0.0155 - rpn_bbox_loss: 1.1620 - mrcnn_class_loss: 0.0532 - mrcnn_bbox_loss: 0.3222 - mrcnn_mask_loss: 0.3477 - val_loss: 3.4377 - val_rpn_class_loss: 0.0186 - val_rpn_bbox_loss: 2.6118 - val_mrcnn_class_loss: 0.0446 - val_mrcnn_bbox_loss: 0.4301 - val_mrcnn_mask_loss: 0.3326\n",
      "Epoch 10/15\n",
      "471/472 [============================>.] - ETA: 0s - loss: 1.8365 - rpn_class_loss: 0.0147 - rpn_bbox_loss: 1.1014 - mrcnn_class_loss: 0.0521 - mrcnn_bbox_loss: 0.3168 - mrcnn_mask_loss: 0.3515Epoch 1/15\n",
      "578/472 [====================================] - 58s 100ms/step - loss: 3.3911 - rpn_class_loss: 0.0185 - rpn_bbox_loss: 2.6996 - mrcnn_class_loss: 0.0471 - mrcnn_bbox_loss: 0.4492 - mrcnn_mask_loss: 0.3689loss:\n",
      "472/472 [==============================] - 163s 345ms/step - loss: 1.8349 - rpn_class_loss: 0.0147 - rpn_bbox_loss: 1.1000 - mrcnn_class_loss: 0.0521 - mrcnn_bbox_loss: 0.3166 - mrcnn_mask_loss: 0.3515 - val_loss: 3.5833 - val_rpn_class_loss: 0.0185 - val_rpn_bbox_loss: 2.6996 - val_mrcnn_class_loss: 0.0471 - val_mrcnn_bbox_loss: 0.4492 - val_mrcnn_mask_loss: 0.3689\n",
      "Epoch 11/15\n",
      "471/472 [============================>.] - ETA: 0s - loss: 1.6779 - rpn_class_loss: 0.0149 - rpn_bbox_loss: 0.9907 - mrcnn_class_loss: 0.0516 - mrcnn_bbox_loss: 0.2846 - mrcnn_mask_loss: 0.3361Epoch 1/15\n",
      "578/472 [====================================] - 58s 100ms/step - loss: 3.4793 - rpn_class_loss: 0.0188 - rpn_bbox_loss: 2.5216 - mrcnn_class_loss: 0.0601 - mrcnn_bbox_loss: 0.4096 - mrcnn_mask_loss: 0.361849s - loss: 3.4912 - rpn_class_loss: 0.0201 - rpn_bbox_loss: 2.7935 - mrcnn_class_loss: 0.0409 - mrcnn_bbox_loss: 0.3554 - mrcnn_mask_ - ETA: 47s - loss: 3.4438 - r - ETA: 40s - loss: 3.3391 - rpn_class_loss: 0.0190 - rpn_bbox_loss: 2.4929 - mrcnn_class_loss: 0.0600 - mrcnn_bbox_loss: 0.4005 - mrcnn_mask_ - ETA: 39s - loss: 3.3220 - rpn_class_loss: 0.0188 - rpn_bbox_loss: 2.4971 - mrcnn_cla\n",
      "472/472 [==============================] - 163s 345ms/step - loss: 1.6764 - rpn_class_loss: 0.0148 - rpn_bbox_loss: 0.9893 - mrcnn_class_loss: 0.0515 - mrcnn_bbox_loss: 0.2846 - mrcnn_mask_loss: 0.3361 - val_loss: 3.3719 - val_rpn_class_loss: 0.0188 - val_rpn_bbox_loss: 2.5216 - val_mrcnn_class_loss: 0.0601 - val_mrcnn_bbox_loss: 0.4096 - val_mrcnn_mask_loss: 0.3618\n",
      "Epoch 12/15\n",
      "471/472 [============================>.] - ETA: 0s - loss: 1.5885 - rpn_class_loss: 0.0145 - rpn_bbox_loss: 0.9050 - mrcnn_class_loss: 0.0530 - mrcnn_bbox_loss: 0.2785 - mrcnn_mask_loss: 0.3374  ETA: 14s - loss: 1.5830 - rpn_class_loss: 0.0146 - rpn_bbox_losEpoch 1/15\n",
      "578/472 [====================================] - 58s 100ms/step - loss: 3.8015 - rpn_class_loss: 0.0170 - rpn_bbox_loss: 2.5743 - mrcnn_class_loss: 0.0563 - mrcnn_bbox_loss: 0.4122 - mrcnn_mask_loss: 0.3489l\n",
      "472/472 [==============================] - 163s 345ms/step - loss: 1.5890 - rpn_class_loss: 0.0145 - rpn_bbox_loss: 0.9053 - mrcnn_class_loss: 0.0530 - mrcnn_bbox_loss: 0.2786 - mrcnn_mask_loss: 0.3376 - val_loss: 3.4087 - val_rpn_class_loss: 0.0170 - val_rpn_bbox_loss: 2.5743 - val_mrcnn_class_loss: 0.0563 - val_mrcnn_bbox_loss: 0.4122 - val_mrcnn_mask_loss: 0.3489\n",
      "Epoch 13/15\n",
      "471/472 [============================>.] - ETA: 0s - loss: 1.4969 - rpn_class_loss: 0.0142 - rpn_bbox_loss: 0.8304 - mrcnn_class_loss: 0.0506 - mrcnn_bbox_loss: 0.2647 - mrcnn_mask_loss: 0.3370Epoch 1/15\n",
      "578/472 [====================================] - 58s 100ms/step - loss: 3.2141 - rpn_class_loss: 0.0186 - rpn_bbox_loss: 2.5647 - mrcnn_class_loss: 0.0603 - mrcnn_bbox_loss: 0.3509 - mrcnn_mask_loss: 0.3186loss: 3.7666 - rpn_class_loss: - ETA: 40s - loss: 3.4381 - rpn_class_loss: 0.0191 - rpn_bbox_loss: 2.7219 - mrcnn_class_loss: 0.0596 - mrcnn_bbox_loss: 0.3353 - mrcnn_m - ETA: 39s - loss: 3.4351 - rpn_class_loss: 0.0194 - rpn_bbox_loss: 2.7382 - mrcnn_class_loss:  - ETA: 36s - loss: 3.3305 - rpn_class_loss: 0.0185 - rpn_bbox_loss: 2.6258 - mr - ETA: 8s - loss: 3.3077 - rpn_class_loss: 0.0186 - rpn_bbox_loss: 2.5553 - mrcnn_class_loss: 0. - ETA: 3s - loss: 3.3167 - rpn_class_loss: 0.0186 - rpn_bbox_loss: 2.5636 - mrcnn_class_loss: 0.0602 - mrcnn_bbox_loss: 0.3538 - mrcnn_mask_loss: 0.320 - ETA: 3s - loss: 3.3197 - rpn_class_loss: 0.0186 - rpn_bbox_loss: 2.5672 - mrcnn_class_loss: 0.0602 - mrcnn_bbox_loss: \n",
      "472/472 [==============================] - 163s 345ms/step - loss: 1.4962 - rpn_class_loss: 0.0142 - rpn_bbox_loss: 0.8297 - mrcnn_class_loss: 0.0506 - mrcnn_bbox_loss: 0.2648 - mrcnn_mask_loss: 0.3369 - val_loss: 3.3132 - val_rpn_class_loss: 0.0186 - val_rpn_bbox_loss: 2.5647 - val_mrcnn_class_loss: 0.0603 - val_mrcnn_bbox_loss: 0.3509 - val_mrcnn_mask_loss: 0.3186\n",
      "Epoch 14/15\n",
      "471/472 [============================>.] - ETA: 0s - loss: 1.4066 - rpn_class_loss: 0.0140 - rpn_bbox_loss: 0.7634 - mrcnn_class_loss: 0.0520 - mrcnn_bbox_loss: 0.2452 - mrcnn_mask_loss: 0.3320Epoch 1/15\n",
      "578/472 [====================================] - 61s 106ms/step - loss: 3.2079 - rpn_class_loss: 0.0170 - rpn_bbox_loss: 2.4345 - mrcnn_class_loss: 0.0556 - mrcnn_bbox_loss: 0.3522 - mrcnn_mask_loss: 0.3384loss: 3.1553 - rpn_class_loss: 0.0169 - rpn_bbox - ETA: 0s - loss: 3.1895 - rpn_class_loss: 0.0171 - rpn_bbox_loss: 2.4158 - mrcnn_class_loss: 0.0562 - mrcnn_bbox_loss: 0.3560 - mrcnn_mask_loss: 0.3\n",
      "472/472 [==============================] - 172s 365ms/step - loss: 1.4048 - rpn_class_loss: 0.0140 - rpn_bbox_loss: 0.7621 - mrcnn_class_loss: 0.0520 - mrcnn_bbox_loss: 0.2449 - mrcnn_mask_loss: 0.3318 - val_loss: 3.1977 - val_rpn_class_loss: 0.0170 - val_rpn_bbox_loss: 2.4345 - val_mrcnn_class_loss: 0.0556 - val_mrcnn_bbox_loss: 0.3522 - val_mrcnn_mask_loss: 0.3384\n",
      "Epoch 15/15\n",
      "471/472 [============================>.] - ETA: 0s - loss: 1.3236 - rpn_class_loss: 0.0136 - rpn_bbox_loss: 0.7004 - mrcnn_class_loss: 0.0525 - mrcnn_bbox_loss: 0.2265 - mrcnn_mask_loss: 0.3305Epoch 1/15\n",
      "578/472 [====================================] - 59s 102ms/step - loss: 3.1587 - rpn_class_loss: 0.0179 - rpn_bbox_loss: 2.4659 - mrcnn_class_loss: 0.0487 - mrcnn_bbox_loss: 0.3729 - mrcnn_mask_loss: 0.3388loss: 3.1206 - rpn_class_loss: 0.0173 - rpn_bbox_loss: 2.3520 - mrcnn_class_loss: 0.0521 - mrcnn_bbox_loss: 0.3702 - ETA: 17s - loss - ETA: 10s - loss: 3.2350 - rpn_class_loss: 0.017\n",
      "472/472 [==============================] - 172s 364ms/step - loss: 1.3231 - rpn_class_loss: 0.0136 - rpn_bbox_loss: 0.7000 - mrcnn_class_loss: 0.0526 - mrcnn_bbox_loss: 0.2263 - mrcnn_mask_loss: 0.3305 - val_loss: 3.2443 - val_rpn_class_loss: 0.0179 - val_rpn_bbox_loss: 2.4659 - val_mrcnn_class_loss: 0.0487 - val_mrcnn_bbox_loss: 0.3729 - val_mrcnn_mask_loss: 0.3388\n"
     ]
    }
   ],
   "source": [
    "history = model.train(train_dataset, valid_dataset,\n",
    "            learning_rate=LR,\n",
    "            epochs=EPOCHS,\n",
    "            layers='heads')"
   ]
  },
  {
   "cell_type": "markdown",
   "metadata": {
    "pycharm": {
     "name": "#%% md\n"
    }
   },
   "source": [
    "### Plot history loss evolution"
   ]
  },
  {
   "cell_type": "markdown",
   "metadata": {
    "pycharm": {
     "name": "#%% md\n"
    }
   },
   "source": [
    "## Submission\n"
   ]
  },
  {
   "cell_type": "code",
   "execution_count": 62,
   "metadata": {},
   "outputs": [
    {
     "name": "stdout",
     "output_type": "stream",
     "text": [
      "Re-starting from epoch 15\n"
     ]
    }
   ],
   "source": [
    "model_path = 'C:/Users/windows/Desktop/Research/3. Code/0_github_code/chest_x_ray_abnormalities_detection/MaskRCNN_implementation/diagnostic20210113T1047/mask_rcnn_diagnostic_0015.h5'\n",
    "model.load_weights(model_path, by_name=True)"
   ]
  },
  {
   "cell_type": "code",
   "execution_count": 26,
   "metadata": {
    "collapsed": false,
    "jupyter": {
     "outputs_hidden": false
    },
    "pycharm": {
     "name": "#%%\n"
    }
   },
   "outputs": [],
   "source": [
    "PREPROCESSING_TEST_DATA = \"C:/Users/windows/Desktop/Research/3. Code/0_github_code/chest_x_ray_abnormalities_detection/MaskRCNN_implementation/converted_data/test/\""
   ]
  },
  {
   "cell_type": "code",
   "execution_count": 27,
   "metadata": {
    "collapsed": false,
    "jupyter": {
     "outputs_hidden": false
    },
    "pycharm": {
     "name": "#%%\n"
    }
   },
   "outputs": [],
   "source": [
    "class InferenceConfig(DiagnosticConfig):\n",
    "    GPU_COUNT = 1\n",
    "    IMAGES_PER_GPU = 1\n",
    "    IMAGE_MIN_DIM = IMAGE_SIZE\n",
    "    IMAGE_MAX_DIM = IMAGE_SIZE\n",
    "    IMAGE_RESIZE_MODE = 'none'\n",
    "    DETECTION_MIN_CONFIDENCE = 0.8\n",
    "    DETECTION_NMS_THRESHOLD = 0.5\n",
    "\n",
    "inference_config = InferenceConfig()\n",
    "\n",
    "model = modellib.MaskRCNN(mode='inference',\n",
    "                          config=inference_config,\n",
    "                          model_dir=\"\")\n"
   ]
  },
  {
   "cell_type": "code",
   "execution_count": 23,
   "metadata": {},
   "outputs": [
    {
     "name": "stdout",
     "output_type": "stream",
     "text": [
      "Re-starting from epoch 15\n"
     ]
    }
   ],
   "source": [
    "model_path = 'C:/Users/windows/Desktop/Research/3. Code/0_github_code/chest_x_ray_abnormalities_detection/MaskRCNN_implementation/diagnostic20210113T1047/mask_rcnn_diagnostic_0015.h5'\n",
    "model.load_weights(model_path, by_name=True)"
   ]
  },
  {
   "cell_type": "code",
   "execution_count": 28,
   "metadata": {
    "collapsed": false,
    "jupyter": {
     "outputs_hidden": false
    },
    "pycharm": {
     "name": "#%%\n"
    }
   },
   "outputs": [],
   "source": [
    "from skimage.measure import find_contours\n",
    "from matplotlib.patches import Polygon\n",
    "\n",
    "\n",
    "# Fix overlapping masks\n",
    "def refine_masks(masks, rois):\n",
    "    areas = np.sum(masks.reshape(-1, masks.shape[-1]), axis=0)\n",
    "    mask_index = np.argsort(areas)\n",
    "    union_mask = np.zeros(masks.shape[:-1], dtype=bool)\n",
    "    for m in mask_index:\n",
    "        masks[:, :, m] = np.logical_and(masks[:, :, m], np.logical_not(union_mask))\n",
    "        union_mask = np.logical_or(masks[:, :, m], union_mask)\n",
    "    for m in range(masks.shape[-1]):\n",
    "        mask_pos = np.where(masks[:, :, m]==True)\n",
    "        if np.any(mask_pos):\n",
    "            y1, x1 = np.min(mask_pos, axis=1)\n",
    "            y2, x2 = np.max(mask_pos, axis=1)\n",
    "            rois[m, :] = [y1, x1, y2, x2]\n",
    "    return masks, rois\n",
    "\n",
    "def decode_rle(rle, height, width):\n",
    "    s = rle.split()\n",
    "    starts, lengths = [np.asarray(x, dtype=int) for x in (s[0:][::2], s[1:][::2])]\n",
    "    starts -= 1\n",
    "    ends = starts + lengths\n",
    "    img = np.zeros(height*width, dtype=np.uint8)\n",
    "    for lo, hi in zip(starts, ends):\n",
    "        img[lo:hi] = 1\n",
    "    return img.reshape((height, width)).T\n",
    "\n",
    "def annotations_to_mask(annotations, height, width):\n",
    "    if isinstance(annotations, list):\n",
    "        # The annotation consists in a list of RLE codes\n",
    "        mask = np.zeros((height, width, len(annotations)))\n",
    "        for i, rle_code in enumerate(annotations):\n",
    "            mask[:, :, i] = decode_rle(rle_code, height, width)\n",
    "    else:\n",
    "        error_message = \"{} is expected to be a list or str but received {}\".format(annotation, type(annotation))\n",
    "        raise TypeError(error_message)\n",
    "    return mask\n",
    "\n",
    "def find_anomalies(dicom_image, display=False):\n",
    "\n",
    "    image_dimensions = dicom_image.shape\n",
    "\n",
    "    resized_img = cv2.resize(dicom_image, (image_size,image_size), interpolation = cv2.INTER_AREA)\n",
    "    saved_filename = PREPROCESSING_TEST_DATA+\"temp_image.jpg\"\n",
    "    cv2.imwrite(saved_filename, resized_img)\n",
    "    img = cv2.imread(saved_filename)\n",
    "\n",
    "#     print(img)\n",
    "    result = model.detect([img])\n",
    "    r = result[0]\n",
    "\n",
    "    if r['masks'].size > 0:\n",
    "        masks = np.zeros((img.shape[0], img.shape[1], r['masks'].shape[-1]), dtype=np.uint8)\n",
    "        for m in range(r['masks'].shape[-1]):\n",
    "            masks[:, :, m] = cv2.resize(r['masks'][:, :, m].astype('uint8'),\n",
    "                                        (img.shape[1], img.shape[0]), interpolation=cv2.INTER_NEAREST)\n",
    "\n",
    "        y_scale = image_dimensions[0]/IMAGE_SIZE\n",
    "        x_scale = image_dimensions[1]/IMAGE_SIZE\n",
    "        rois = (r['rois'] * [y_scale, x_scale, y_scale, x_scale]).astype(int)\n",
    "\n",
    "        masks, rois = refine_masks(masks, rois)\n",
    "    else:\n",
    "        masks, rois = r['masks'], r['rois']\n",
    "\n",
    "    if display:\n",
    "        visualize.display_instances(img, rois, masks, r['class_ids'],\n",
    "                                    ['bg']+category_list, r['scores'],\n",
    "                                    title=\"prediction\", figsize=(12, 12))\n",
    "    return rois, r['class_ids'], r['scores']"
   ]
  },
  {
   "cell_type": "code",
   "execution_count": null,
   "metadata": {
    "collapsed": false,
    "jupyter": {
     "outputs_hidden": false
    },
    "pycharm": {
     "name": "#%%\n"
    }
   },
   "outputs": [],
   "source": [
    "image_size=512\n",
    "test_file_list = os.listdir(TEST_DIR)[150:200]\n",
    "\n",
    "for test_file in test_file_list:\n",
    "    dicom_image = dicom2array(TEST_DIR + '/' + test_file)\n",
    "    find_anomalies(dicom_image, display=True)"
   ]
  },
  {
   "cell_type": "code",
   "execution_count": null,
   "metadata": {
    "collapsed": false,
    "jupyter": {
     "outputs_hidden": false
    },
    "pycharm": {
     "name": "#%%\n"
    }
   },
   "outputs": [],
   "source": []
  },
  {
   "cell_type": "code",
   "execution_count": null,
   "metadata": {
    "collapsed": false,
    "jupyter": {
     "outputs_hidden": false
    },
    "pycharm": {
     "name": "#%%\n"
    }
   },
   "outputs": [],
   "source": []
  },
  {
   "cell_type": "code",
   "execution_count": null,
   "metadata": {
    "collapsed": false,
    "jupyter": {
     "outputs_hidden": false
    },
    "pycharm": {
     "name": "#%%\n"
    }
   },
   "outputs": [],
   "source": []
  }
 ],
 "metadata": {
  "kernelspec": {
   "display_name": "Python 3",
   "language": "python",
   "name": "python3"
  },
  "language_info": {
   "codemirror_mode": {
    "name": "ipython",
    "version": 3
   },
   "file_extension": ".py",
   "mimetype": "text/x-python",
   "name": "python",
   "nbconvert_exporter": "python",
   "pygments_lexer": "ipython3",
   "version": "3.7.9"
  }
 },
 "nbformat": 4,
 "nbformat_minor": 4
}
