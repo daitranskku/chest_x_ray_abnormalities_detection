{
 "cells": [
  {
   "cell_type": "code",
   "execution_count": 7,
   "id": "surface-japan",
   "metadata": {},
   "outputs": [],
   "source": [
    "import pandas as pd\n",
    "import numpy as np\n",
    "from glob import glob\n",
    "import shutil\n"
   ]
  },
  {
   "cell_type": "code",
   "execution_count": 3,
   "id": "heavy-captain",
   "metadata": {},
   "outputs": [],
   "source": [
    "predict_maskrcnn = 'Submission/submission_31.1_1.csv'\n",
    "predict_2_class = 'Submission/2-cls test pred.csv'"
   ]
  },
  {
   "cell_type": "code",
   "execution_count": 4,
   "id": "duplicate-birth",
   "metadata": {},
   "outputs": [],
   "source": [
    "submission_maskrcnn = pd.read_csv(predict_maskrcnn)\n",
    "submission_2_class= pd.read_csv(predict_2_class)"
   ]
  },
  {
   "cell_type": "code",
   "execution_count": 5,
   "id": "changed-minister",
   "metadata": {},
   "outputs": [
    {
     "data": {
      "text/html": [
       "<div>\n",
       "<style scoped>\n",
       "    .dataframe tbody tr th:only-of-type {\n",
       "        vertical-align: middle;\n",
       "    }\n",
       "\n",
       "    .dataframe tbody tr th {\n",
       "        vertical-align: top;\n",
       "    }\n",
       "\n",
       "    .dataframe thead th {\n",
       "        text-align: right;\n",
       "    }\n",
       "</style>\n",
       "<table border=\"1\" class=\"dataframe\">\n",
       "  <thead>\n",
       "    <tr style=\"text-align: right;\">\n",
       "      <th></th>\n",
       "      <th>image_id</th>\n",
       "      <th>PredictionString</th>\n",
       "    </tr>\n",
       "  </thead>\n",
       "  <tbody>\n",
       "    <tr>\n",
       "      <th>0</th>\n",
       "      <td>002a34c58c5b758217ed1f584ccbcfe9</td>\n",
       "      <td>3 0.993 810 1286 1900 1584 11 0.948 622 307 84...</td>\n",
       "    </tr>\n",
       "    <tr>\n",
       "      <th>1</th>\n",
       "      <td>004f33259ee4aef671c2b95d54e4be68</td>\n",
       "      <td>3 0.998 988 1478 1853 1774 0 0.994 1292 609 15...</td>\n",
       "    </tr>\n",
       "    <tr>\n",
       "      <th>2</th>\n",
       "      <td>008bdde2af2462e86fd373a445d0f4cd</td>\n",
       "      <td>3 0.999 1125 1513 1908 1732 0 0.999 1462 821 1...</td>\n",
       "    </tr>\n",
       "    <tr>\n",
       "      <th>3</th>\n",
       "      <td>009bc039326338823ca3aa84381f17f1</td>\n",
       "      <td>3 0.999 665 1115 1550 1295 10 0.97 218 1181 69...</td>\n",
       "    </tr>\n",
       "    <tr>\n",
       "      <th>4</th>\n",
       "      <td>00a2145de1886cb9eb88869c85d74080</td>\n",
       "      <td>3 1.0 813 1349 1773 1575 0 0.993 1118 710 1343...</td>\n",
       "    </tr>\n",
       "  </tbody>\n",
       "</table>\n",
       "</div>"
      ],
      "text/plain": [
       "                           image_id  \\\n",
       "0  002a34c58c5b758217ed1f584ccbcfe9   \n",
       "1  004f33259ee4aef671c2b95d54e4be68   \n",
       "2  008bdde2af2462e86fd373a445d0f4cd   \n",
       "3  009bc039326338823ca3aa84381f17f1   \n",
       "4  00a2145de1886cb9eb88869c85d74080   \n",
       "\n",
       "                                    PredictionString  \n",
       "0  3 0.993 810 1286 1900 1584 11 0.948 622 307 84...  \n",
       "1  3 0.998 988 1478 1853 1774 0 0.994 1292 609 15...  \n",
       "2  3 0.999 1125 1513 1908 1732 0 0.999 1462 821 1...  \n",
       "3  3 0.999 665 1115 1550 1295 10 0.97 218 1181 69...  \n",
       "4  3 1.0 813 1349 1773 1575 0 0.993 1118 710 1343...  "
      ]
     },
     "execution_count": 5,
     "metadata": {},
     "output_type": "execute_result"
    }
   ],
   "source": [
    "submission_maskrcnn.head()"
   ]
  },
  {
   "cell_type": "code",
   "execution_count": 6,
   "id": "technological-budget",
   "metadata": {},
   "outputs": [
    {
     "data": {
      "text/html": [
       "<div>\n",
       "<style scoped>\n",
       "    .dataframe tbody tr th:only-of-type {\n",
       "        vertical-align: middle;\n",
       "    }\n",
       "\n",
       "    .dataframe tbody tr th {\n",
       "        vertical-align: top;\n",
       "    }\n",
       "\n",
       "    .dataframe thead th {\n",
       "        text-align: right;\n",
       "    }\n",
       "</style>\n",
       "<table border=\"1\" class=\"dataframe\">\n",
       "  <thead>\n",
       "    <tr style=\"text-align: right;\">\n",
       "      <th></th>\n",
       "      <th>image_id</th>\n",
       "      <th>target</th>\n",
       "    </tr>\n",
       "  </thead>\n",
       "  <tbody>\n",
       "    <tr>\n",
       "      <th>0</th>\n",
       "      <td>002a34c58c5b758217ed1f584ccbcfe9</td>\n",
       "      <td>0.013326</td>\n",
       "    </tr>\n",
       "    <tr>\n",
       "      <th>1</th>\n",
       "      <td>004f33259ee4aef671c2b95d54e4be68</td>\n",
       "      <td>0.037235</td>\n",
       "    </tr>\n",
       "    <tr>\n",
       "      <th>2</th>\n",
       "      <td>008bdde2af2462e86fd373a445d0f4cd</td>\n",
       "      <td>0.939700</td>\n",
       "    </tr>\n",
       "    <tr>\n",
       "      <th>3</th>\n",
       "      <td>009bc039326338823ca3aa84381f17f1</td>\n",
       "      <td>0.123799</td>\n",
       "    </tr>\n",
       "    <tr>\n",
       "      <th>4</th>\n",
       "      <td>00a2145de1886cb9eb88869c85d74080</td>\n",
       "      <td>0.654006</td>\n",
       "    </tr>\n",
       "  </tbody>\n",
       "</table>\n",
       "</div>"
      ],
      "text/plain": [
       "                           image_id    target\n",
       "0  002a34c58c5b758217ed1f584ccbcfe9  0.013326\n",
       "1  004f33259ee4aef671c2b95d54e4be68  0.037235\n",
       "2  008bdde2af2462e86fd373a445d0f4cd  0.939700\n",
       "3  009bc039326338823ca3aa84381f17f1  0.123799\n",
       "4  00a2145de1886cb9eb88869c85d74080  0.654006"
      ]
     },
     "execution_count": 6,
     "metadata": {},
     "output_type": "execute_result"
    }
   ],
   "source": [
    "submission_2_class.head()"
   ]
  },
  {
   "cell_type": "markdown",
   "id": "sapphire-machinery",
   "metadata": {},
   "source": [
    "## Filter threshold"
   ]
  },
  {
   "cell_type": "code",
   "execution_count": 48,
   "id": "breeding-impossible",
   "metadata": {},
   "outputs": [],
   "source": [
    "low_thr  = 0.05\n",
    "high_thr = 0.8"
   ]
  },
  {
   "cell_type": "code",
   "execution_count": 49,
   "id": "communist-cycle",
   "metadata": {},
   "outputs": [
    {
     "data": {
      "text/html": [
       "<div>\n",
       "<style scoped>\n",
       "    .dataframe tbody tr th:only-of-type {\n",
       "        vertical-align: middle;\n",
       "    }\n",
       "\n",
       "    .dataframe tbody tr th {\n",
       "        vertical-align: top;\n",
       "    }\n",
       "\n",
       "    .dataframe thead th {\n",
       "        text-align: right;\n",
       "    }\n",
       "</style>\n",
       "<table border=\"1\" class=\"dataframe\">\n",
       "  <thead>\n",
       "    <tr style=\"text-align: right;\">\n",
       "      <th></th>\n",
       "      <th>image_id</th>\n",
       "      <th>PredictionString</th>\n",
       "      <th>target</th>\n",
       "    </tr>\n",
       "  </thead>\n",
       "  <tbody>\n",
       "    <tr>\n",
       "      <th>0</th>\n",
       "      <td>002a34c58c5b758217ed1f584ccbcfe9</td>\n",
       "      <td>3 0.993 810 1286 1900 1584 11 0.948 622 307 84...</td>\n",
       "      <td>0.013326</td>\n",
       "    </tr>\n",
       "    <tr>\n",
       "      <th>1</th>\n",
       "      <td>004f33259ee4aef671c2b95d54e4be68</td>\n",
       "      <td>3 0.998 988 1478 1853 1774 0 0.994 1292 609 15...</td>\n",
       "      <td>0.037235</td>\n",
       "    </tr>\n",
       "    <tr>\n",
       "      <th>2</th>\n",
       "      <td>008bdde2af2462e86fd373a445d0f4cd</td>\n",
       "      <td>3 0.999 1125 1513 1908 1732 0 0.999 1462 821 1...</td>\n",
       "      <td>0.939700</td>\n",
       "    </tr>\n",
       "    <tr>\n",
       "      <th>3</th>\n",
       "      <td>009bc039326338823ca3aa84381f17f1</td>\n",
       "      <td>3 0.999 665 1115 1550 1295 10 0.97 218 1181 69...</td>\n",
       "      <td>0.123799</td>\n",
       "    </tr>\n",
       "    <tr>\n",
       "      <th>4</th>\n",
       "      <td>00a2145de1886cb9eb88869c85d74080</td>\n",
       "      <td>3 1.0 813 1349 1773 1575 0 0.993 1118 710 1343...</td>\n",
       "      <td>0.654006</td>\n",
       "    </tr>\n",
       "    <tr>\n",
       "      <th>...</th>\n",
       "      <td>...</td>\n",
       "      <td>...</td>\n",
       "      <td>...</td>\n",
       "    </tr>\n",
       "    <tr>\n",
       "      <th>2995</th>\n",
       "      <td>ff91fb82429a27521bbec8569b041f02</td>\n",
       "      <td>3 1.0 1242 1440 2382 1722 0 0.999 1626 660 187...</td>\n",
       "      <td>0.936325</td>\n",
       "    </tr>\n",
       "    <tr>\n",
       "      <th>2996</th>\n",
       "      <td>ff9fcc4087ed5e941209aa3fa948e364</td>\n",
       "      <td>0 0.995 1107 708 1413 1035 3 0.92 774 1406 165...</td>\n",
       "      <td>0.963583</td>\n",
       "    </tr>\n",
       "    <tr>\n",
       "      <th>2997</th>\n",
       "      <td>ffaa288c8abca300974f043b57d81521</td>\n",
       "      <td>11 0.984 1535 352 2117 589 0 0.92 1247 1479 18...</td>\n",
       "      <td>0.178720</td>\n",
       "    </tr>\n",
       "    <tr>\n",
       "      <th>2998</th>\n",
       "      <td>ffc441e0c8b7153844047483a577e7c3</td>\n",
       "      <td>3 0.999 721 1318 1533 1591 11 0.89 1059 295 12...</td>\n",
       "      <td>0.225196</td>\n",
       "    </tr>\n",
       "    <tr>\n",
       "      <th>2999</th>\n",
       "      <td>ffccf1709d0081d122a1d1f9edbefdf1</td>\n",
       "      <td>11 0.998 208 2686 356 2879 0 0.976 1367 939 17...</td>\n",
       "      <td>0.987406</td>\n",
       "    </tr>\n",
       "  </tbody>\n",
       "</table>\n",
       "<p>3000 rows × 3 columns</p>\n",
       "</div>"
      ],
      "text/plain": [
       "                              image_id  \\\n",
       "0     002a34c58c5b758217ed1f584ccbcfe9   \n",
       "1     004f33259ee4aef671c2b95d54e4be68   \n",
       "2     008bdde2af2462e86fd373a445d0f4cd   \n",
       "3     009bc039326338823ca3aa84381f17f1   \n",
       "4     00a2145de1886cb9eb88869c85d74080   \n",
       "...                                ...   \n",
       "2995  ff91fb82429a27521bbec8569b041f02   \n",
       "2996  ff9fcc4087ed5e941209aa3fa948e364   \n",
       "2997  ffaa288c8abca300974f043b57d81521   \n",
       "2998  ffc441e0c8b7153844047483a577e7c3   \n",
       "2999  ffccf1709d0081d122a1d1f9edbefdf1   \n",
       "\n",
       "                                       PredictionString    target  \n",
       "0     3 0.993 810 1286 1900 1584 11 0.948 622 307 84...  0.013326  \n",
       "1     3 0.998 988 1478 1853 1774 0 0.994 1292 609 15...  0.037235  \n",
       "2     3 0.999 1125 1513 1908 1732 0 0.999 1462 821 1...  0.939700  \n",
       "3     3 0.999 665 1115 1550 1295 10 0.97 218 1181 69...  0.123799  \n",
       "4     3 1.0 813 1349 1773 1575 0 0.993 1118 710 1343...  0.654006  \n",
       "...                                                 ...       ...  \n",
       "2995  3 1.0 1242 1440 2382 1722 0 0.999 1626 660 187...  0.936325  \n",
       "2996  0 0.995 1107 708 1413 1035 3 0.92 774 1406 165...  0.963583  \n",
       "2997  11 0.984 1535 352 2117 589 0 0.92 1247 1479 18...  0.178720  \n",
       "2998  3 0.999 721 1318 1533 1591 11 0.89 1059 295 12...  0.225196  \n",
       "2999  11 0.998 208 2686 356 2879 0 0.976 1367 939 17...  0.987406  \n",
       "\n",
       "[3000 rows x 3 columns]"
      ]
     },
     "execution_count": 49,
     "metadata": {},
     "output_type": "execute_result"
    }
   ],
   "source": [
    "pred = pd.merge(submission_maskrcnn, submission_2_class, on = 'image_id', how = 'left')\n",
    "pred"
   ]
  },
  {
   "cell_type": "code",
   "execution_count": 50,
   "id": "lesser-fireplace",
   "metadata": {},
   "outputs": [
    {
     "data": {
      "text/plain": [
       "14 1.0 0 0 1 1    66\n",
       "Name: PredictionString, dtype: int64"
      ]
     },
     "execution_count": 50,
     "metadata": {},
     "output_type": "execute_result"
    }
   ],
   "source": [
    "pred['PredictionString'].value_counts().iloc[[0]]"
   ]
  },
  {
   "cell_type": "code",
   "execution_count": 51,
   "id": "above-estate",
   "metadata": {},
   "outputs": [],
   "source": [
    "def filter_2cls(row, low_thr=low_thr, high_thr=high_thr):\n",
    "    prob = row['target']\n",
    "    if prob<low_thr:\n",
    "        ## Less chance of having any disease\n",
    "        row['PredictionString'] = '14 1 0 0 1 1'\n",
    "    elif low_thr<=prob<high_thr:\n",
    "        ## More change of having any diesease\n",
    "        row['PredictionString']+=f' 14 {prob} 0 0 1 1'\n",
    "    elif high_thr<=prob:\n",
    "        ## Good chance of having any disease so believe in object detection model\n",
    "        row['PredictionString'] = row['PredictionString']\n",
    "    else:\n",
    "        raise ValueError('Prediction must be from [0-1]')\n",
    "    return row"
   ]
  },
  {
   "cell_type": "code",
   "execution_count": 52,
   "id": "silver-romantic",
   "metadata": {},
   "outputs": [
    {
     "data": {
      "text/html": [
       "<div>\n",
       "<style scoped>\n",
       "    .dataframe tbody tr th:only-of-type {\n",
       "        vertical-align: middle;\n",
       "    }\n",
       "\n",
       "    .dataframe tbody tr th {\n",
       "        vertical-align: top;\n",
       "    }\n",
       "\n",
       "    .dataframe thead th {\n",
       "        text-align: right;\n",
       "    }\n",
       "</style>\n",
       "<table border=\"1\" class=\"dataframe\">\n",
       "  <thead>\n",
       "    <tr style=\"text-align: right;\">\n",
       "      <th></th>\n",
       "      <th>image_id</th>\n",
       "      <th>PredictionString</th>\n",
       "      <th>target</th>\n",
       "    </tr>\n",
       "  </thead>\n",
       "  <tbody>\n",
       "    <tr>\n",
       "      <th>0</th>\n",
       "      <td>002a34c58c5b758217ed1f584ccbcfe9</td>\n",
       "      <td>14 1 0 0 1 1</td>\n",
       "      <td>0.013326</td>\n",
       "    </tr>\n",
       "    <tr>\n",
       "      <th>1</th>\n",
       "      <td>004f33259ee4aef671c2b95d54e4be68</td>\n",
       "      <td>14 1 0 0 1 1</td>\n",
       "      <td>0.037235</td>\n",
       "    </tr>\n",
       "    <tr>\n",
       "      <th>2</th>\n",
       "      <td>008bdde2af2462e86fd373a445d0f4cd</td>\n",
       "      <td>3 0.999 1125 1513 1908 1732 0 0.999 1462 821 1...</td>\n",
       "      <td>0.939700</td>\n",
       "    </tr>\n",
       "    <tr>\n",
       "      <th>3</th>\n",
       "      <td>009bc039326338823ca3aa84381f17f1</td>\n",
       "      <td>3 0.999 665 1115 1550 1295 10 0.97 218 1181 69...</td>\n",
       "      <td>0.123799</td>\n",
       "    </tr>\n",
       "    <tr>\n",
       "      <th>4</th>\n",
       "      <td>00a2145de1886cb9eb88869c85d74080</td>\n",
       "      <td>3 1.0 813 1349 1773 1575 0 0.993 1118 710 1343...</td>\n",
       "      <td>0.654006</td>\n",
       "    </tr>\n",
       "  </tbody>\n",
       "</table>\n",
       "</div>"
      ],
      "text/plain": [
       "                           image_id  \\\n",
       "0  002a34c58c5b758217ed1f584ccbcfe9   \n",
       "1  004f33259ee4aef671c2b95d54e4be68   \n",
       "2  008bdde2af2462e86fd373a445d0f4cd   \n",
       "3  009bc039326338823ca3aa84381f17f1   \n",
       "4  00a2145de1886cb9eb88869c85d74080   \n",
       "\n",
       "                                    PredictionString    target  \n",
       "0                                       14 1 0 0 1 1  0.013326  \n",
       "1                                       14 1 0 0 1 1  0.037235  \n",
       "2  3 0.999 1125 1513 1908 1732 0 0.999 1462 821 1...  0.939700  \n",
       "3  3 0.999 665 1115 1550 1295 10 0.97 218 1181 69...  0.123799  \n",
       "4  3 1.0 813 1349 1773 1575 0 0.993 1118 710 1343...  0.654006  "
      ]
     },
     "execution_count": 52,
     "metadata": {},
     "output_type": "execute_result"
    }
   ],
   "source": [
    "sub = pred.apply(filter_2cls, axis=1)\n",
    "sub.head()"
   ]
  },
  {
   "cell_type": "code",
   "execution_count": 53,
   "id": "elegant-bosnia",
   "metadata": {},
   "outputs": [
    {
     "data": {
      "text/plain": [
       "14 1 0 0 1 1    1700\n",
       "Name: PredictionString, dtype: int64"
      ]
     },
     "execution_count": 53,
     "metadata": {},
     "output_type": "execute_result"
    }
   ],
   "source": [
    "sub['PredictionString'].value_counts().iloc[[0]]"
   ]
  },
  {
   "cell_type": "code",
   "execution_count": 54,
   "id": "informative-forwarding",
   "metadata": {},
   "outputs": [
    {
     "data": {
      "text/plain": [
       "'/home/daitran/Desktop/git/chest_x_ray_abnormalities_detection/MaskRCNN_implementation'"
      ]
     },
     "execution_count": 54,
     "metadata": {},
     "output_type": "execute_result"
    }
   ],
   "source": [
    "import os\n",
    "os.getcwd()"
   ]
  },
  {
   "cell_type": "code",
   "execution_count": 55,
   "id": "defensive-oracle",
   "metadata": {},
   "outputs": [],
   "source": [
    "sub[['image_id', 'PredictionString']].to_csv('submission_threshold_2.csv',index = False)"
   ]
  },
  {
   "cell_type": "code",
   "execution_count": null,
   "id": "crude-daisy",
   "metadata": {},
   "outputs": [],
   "source": []
  },
  {
   "cell_type": "code",
   "execution_count": 27,
   "id": "designing-notebook",
   "metadata": {},
   "outputs": [],
   "source": [
    "df_down_filtered = pd.read_csv('Submission/submission_31.1_filtered.csv')"
   ]
  },
  {
   "cell_type": "code",
   "execution_count": 28,
   "id": "united-uganda",
   "metadata": {},
   "outputs": [
    {
     "data": {
      "text/html": [
       "<div>\n",
       "<style scoped>\n",
       "    .dataframe tbody tr th:only-of-type {\n",
       "        vertical-align: middle;\n",
       "    }\n",
       "\n",
       "    .dataframe tbody tr th {\n",
       "        vertical-align: top;\n",
       "    }\n",
       "\n",
       "    .dataframe thead th {\n",
       "        text-align: right;\n",
       "    }\n",
       "</style>\n",
       "<table border=\"1\" class=\"dataframe\">\n",
       "  <thead>\n",
       "    <tr style=\"text-align: right;\">\n",
       "      <th></th>\n",
       "      <th>image_id</th>\n",
       "      <th>PredictionString</th>\n",
       "    </tr>\n",
       "  </thead>\n",
       "  <tbody>\n",
       "    <tr>\n",
       "      <th>0</th>\n",
       "      <td>002a34c58c5b758217ed1f584ccbcfe9</td>\n",
       "      <td>14 1 0 0 1 1</td>\n",
       "    </tr>\n",
       "    <tr>\n",
       "      <th>1</th>\n",
       "      <td>004f33259ee4aef671c2b95d54e4be68</td>\n",
       "      <td>14 1 0 0 1 1</td>\n",
       "    </tr>\n",
       "    <tr>\n",
       "      <th>2</th>\n",
       "      <td>008bdde2af2462e86fd373a445d0f4cd</td>\n",
       "      <td>3 0.999 1125 1513 1908 1732 0 0.999 1462 821 1...</td>\n",
       "    </tr>\n",
       "    <tr>\n",
       "      <th>3</th>\n",
       "      <td>009bc039326338823ca3aa84381f17f1</td>\n",
       "      <td>3 0.999 665 1115 1550 1295 10 0.97 218 1181 69...</td>\n",
       "    </tr>\n",
       "    <tr>\n",
       "      <th>4</th>\n",
       "      <td>00a2145de1886cb9eb88869c85d74080</td>\n",
       "      <td>3 1.0 813 1349 1773 1575 0 0.993 1118 710 1343...</td>\n",
       "    </tr>\n",
       "    <tr>\n",
       "      <th>...</th>\n",
       "      <td>...</td>\n",
       "      <td>...</td>\n",
       "    </tr>\n",
       "    <tr>\n",
       "      <th>2995</th>\n",
       "      <td>ff91fb82429a27521bbec8569b041f02</td>\n",
       "      <td>3 1.0 1242 1440 2382 1722 0 0.999 1626 660 187...</td>\n",
       "    </tr>\n",
       "    <tr>\n",
       "      <th>2996</th>\n",
       "      <td>ff9fcc4087ed5e941209aa3fa948e364</td>\n",
       "      <td>0 0.995 1107 708 1413 1035 3 0.92 774 1406 165...</td>\n",
       "    </tr>\n",
       "    <tr>\n",
       "      <th>2997</th>\n",
       "      <td>ffaa288c8abca300974f043b57d81521</td>\n",
       "      <td>11 0.984 1535 352 2117 589 0 0.92 1247 1479 18...</td>\n",
       "    </tr>\n",
       "    <tr>\n",
       "      <th>2998</th>\n",
       "      <td>ffc441e0c8b7153844047483a577e7c3</td>\n",
       "      <td>3 0.999 721 1318 1533 1591 11 0.89 1059 295 12...</td>\n",
       "    </tr>\n",
       "    <tr>\n",
       "      <th>2999</th>\n",
       "      <td>ffccf1709d0081d122a1d1f9edbefdf1</td>\n",
       "      <td>11 0.998 208 2686 356 2879 0 0.976 1367 939 17...</td>\n",
       "    </tr>\n",
       "  </tbody>\n",
       "</table>\n",
       "<p>3000 rows × 2 columns</p>\n",
       "</div>"
      ],
      "text/plain": [
       "                              image_id  \\\n",
       "0     002a34c58c5b758217ed1f584ccbcfe9   \n",
       "1     004f33259ee4aef671c2b95d54e4be68   \n",
       "2     008bdde2af2462e86fd373a445d0f4cd   \n",
       "3     009bc039326338823ca3aa84381f17f1   \n",
       "4     00a2145de1886cb9eb88869c85d74080   \n",
       "...                                ...   \n",
       "2995  ff91fb82429a27521bbec8569b041f02   \n",
       "2996  ff9fcc4087ed5e941209aa3fa948e364   \n",
       "2997  ffaa288c8abca300974f043b57d81521   \n",
       "2998  ffc441e0c8b7153844047483a577e7c3   \n",
       "2999  ffccf1709d0081d122a1d1f9edbefdf1   \n",
       "\n",
       "                                       PredictionString  \n",
       "0                                          14 1 0 0 1 1  \n",
       "1                                          14 1 0 0 1 1  \n",
       "2     3 0.999 1125 1513 1908 1732 0 0.999 1462 821 1...  \n",
       "3     3 0.999 665 1115 1550 1295 10 0.97 218 1181 69...  \n",
       "4     3 1.0 813 1349 1773 1575 0 0.993 1118 710 1343...  \n",
       "...                                                 ...  \n",
       "2995  3 1.0 1242 1440 2382 1722 0 0.999 1626 660 187...  \n",
       "2996  0 0.995 1107 708 1413 1035 3 0.92 774 1406 165...  \n",
       "2997  11 0.984 1535 352 2117 589 0 0.92 1247 1479 18...  \n",
       "2998  3 0.999 721 1318 1533 1591 11 0.89 1059 295 12...  \n",
       "2999  11 0.998 208 2686 356 2879 0 0.976 1367 939 17...  \n",
       "\n",
       "[3000 rows x 2 columns]"
      ]
     },
     "execution_count": 28,
     "metadata": {},
     "output_type": "execute_result"
    }
   ],
   "source": [
    "df_down_filtered"
   ]
  },
  {
   "cell_type": "code",
   "execution_count": 29,
   "id": "spoken-sending",
   "metadata": {},
   "outputs": [
    {
     "data": {
      "text/plain": [
       "14 1 0 0 1 1    1912\n",
       "Name: PredictionString, dtype: int64"
      ]
     },
     "execution_count": 29,
     "metadata": {},
     "output_type": "execute_result"
    }
   ],
   "source": [
    "df_down_filtered['PredictionString'].value_counts().iloc[[0]]"
   ]
  },
  {
   "cell_type": "code",
   "execution_count": null,
   "id": "pending-mathematics",
   "metadata": {},
   "outputs": [],
   "source": []
  }
 ],
 "metadata": {
  "kernelspec": {
   "display_name": "Python 3",
   "language": "python",
   "name": "python3"
  },
  "language_info": {
   "codemirror_mode": {
    "name": "ipython",
    "version": 3
   },
   "file_extension": ".py",
   "mimetype": "text/x-python",
   "name": "python",
   "nbconvert_exporter": "python",
   "pygments_lexer": "ipython3",
   "version": "3.7.9"
  }
 },
 "nbformat": 4,
 "nbformat_minor": 5
}
