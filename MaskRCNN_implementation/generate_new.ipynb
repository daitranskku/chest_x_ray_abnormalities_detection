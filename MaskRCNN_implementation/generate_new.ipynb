{
 "cells": [
  {
   "cell_type": "markdown",
   "metadata": {
    "pycharm": {
     "name": "#%% md\n"
    }
   },
   "source": [
    "## Preprocessing data for Mask RCNN"
   ]
  },
  {
   "cell_type": "code",
   "execution_count": 1,
   "metadata": {
    "collapsed": false,
    "jupyter": {
     "outputs_hidden": false
    },
    "pycharm": {
     "name": "#%%\n"
    }
   },
   "outputs": [],
   "source": [
    "import os\n",
    "import json\n",
    "import random\n",
    "\n",
    "import pandas as pd\n",
    "import numpy as np\n",
    "import matplotlib.pyplot as plt\n",
    "import seaborn as sns\n",
    "\n",
    "import cv2\n",
    "import itertools\n",
    "from tqdm import tqdm\n",
    "import pydicom\n",
    "from pydicom.pixel_data_handlers.util import apply_voi_lut\n",
    "\n",
    "import warnings\n",
    "warnings.filterwarnings(\"ignore\")"
   ]
  },
  {
   "cell_type": "code",
   "execution_count": 2,
   "metadata": {
    "collapsed": false,
    "jupyter": {
     "outputs_hidden": false
    },
    "pycharm": {
     "name": "#%%\n"
    }
   },
   "outputs": [],
   "source": [
    "DATA_DIR = \"/media/daitran/2E3240D23240A0A7/Users/windows/Desktop/Research/data/\"\n",
    "\n",
    "TRAIN_DIR = os.path.join(DATA_DIR, \"train\")\n",
    "TEST_DIR = os.path.join(DATA_DIR, \"test\")\n",
    "TRAIN_CSV_DIR = os.path.join(DATA_DIR, \"train.csv\")\n",
    "SS_CSV_DIR = os.path.join(DATA_DIR, \"sample_submission.csv\")\n",
    "PREPROCESSED_TRAINING_IMAGE_FOLDER = '/home/daitran/Desktop/research/kaggle/VinBigData/train/full_torch/'"
   ]
  },
  {
   "cell_type": "code",
   "execution_count": 3,
   "metadata": {
    "collapsed": false,
    "jupyter": {
     "outputs_hidden": false
    },
    "pycharm": {
     "name": "#%%\n"
    }
   },
   "outputs": [
    {
     "data": {
      "text/html": [
       "<div>\n",
       "<style scoped>\n",
       "    .dataframe tbody tr th:only-of-type {\n",
       "        vertical-align: middle;\n",
       "    }\n",
       "\n",
       "    .dataframe tbody tr th {\n",
       "        vertical-align: top;\n",
       "    }\n",
       "\n",
       "    .dataframe thead th {\n",
       "        text-align: right;\n",
       "    }\n",
       "</style>\n",
       "<table border=\"1\" class=\"dataframe\">\n",
       "  <thead>\n",
       "    <tr style=\"text-align: right;\">\n",
       "      <th></th>\n",
       "      <th>image_id</th>\n",
       "      <th>class_name</th>\n",
       "      <th>class_id</th>\n",
       "      <th>rad_id</th>\n",
       "      <th>x_min</th>\n",
       "      <th>y_min</th>\n",
       "      <th>x_max</th>\n",
       "      <th>y_max</th>\n",
       "    </tr>\n",
       "  </thead>\n",
       "  <tbody>\n",
       "    <tr>\n",
       "      <th>0</th>\n",
       "      <td>50a418190bc3fb1ef1633bf9678929b3</td>\n",
       "      <td>No finding</td>\n",
       "      <td>14</td>\n",
       "      <td>R11</td>\n",
       "      <td>NaN</td>\n",
       "      <td>NaN</td>\n",
       "      <td>NaN</td>\n",
       "      <td>NaN</td>\n",
       "    </tr>\n",
       "    <tr>\n",
       "      <th>1</th>\n",
       "      <td>21a10246a5ec7af151081d0cd6d65dc9</td>\n",
       "      <td>No finding</td>\n",
       "      <td>14</td>\n",
       "      <td>R7</td>\n",
       "      <td>NaN</td>\n",
       "      <td>NaN</td>\n",
       "      <td>NaN</td>\n",
       "      <td>NaN</td>\n",
       "    </tr>\n",
       "    <tr>\n",
       "      <th>2</th>\n",
       "      <td>9a5094b2563a1ef3ff50dc5c7ff71345</td>\n",
       "      <td>Cardiomegaly</td>\n",
       "      <td>3</td>\n",
       "      <td>R10</td>\n",
       "      <td>691.0</td>\n",
       "      <td>1375.0</td>\n",
       "      <td>1653.0</td>\n",
       "      <td>1831.0</td>\n",
       "    </tr>\n",
       "    <tr>\n",
       "      <th>3</th>\n",
       "      <td>051132a778e61a86eb147c7c6f564dfe</td>\n",
       "      <td>Aortic enlargement</td>\n",
       "      <td>0</td>\n",
       "      <td>R10</td>\n",
       "      <td>1264.0</td>\n",
       "      <td>743.0</td>\n",
       "      <td>1611.0</td>\n",
       "      <td>1019.0</td>\n",
       "    </tr>\n",
       "    <tr>\n",
       "      <th>4</th>\n",
       "      <td>063319de25ce7edb9b1c6b8881290140</td>\n",
       "      <td>No finding</td>\n",
       "      <td>14</td>\n",
       "      <td>R10</td>\n",
       "      <td>NaN</td>\n",
       "      <td>NaN</td>\n",
       "      <td>NaN</td>\n",
       "      <td>NaN</td>\n",
       "    </tr>\n",
       "    <tr>\n",
       "      <th>...</th>\n",
       "      <td>...</td>\n",
       "      <td>...</td>\n",
       "      <td>...</td>\n",
       "      <td>...</td>\n",
       "      <td>...</td>\n",
       "      <td>...</td>\n",
       "      <td>...</td>\n",
       "      <td>...</td>\n",
       "    </tr>\n",
       "    <tr>\n",
       "      <th>67909</th>\n",
       "      <td>936fd5cff1c058d39817a08f58b72cae</td>\n",
       "      <td>No finding</td>\n",
       "      <td>14</td>\n",
       "      <td>R1</td>\n",
       "      <td>NaN</td>\n",
       "      <td>NaN</td>\n",
       "      <td>NaN</td>\n",
       "      <td>NaN</td>\n",
       "    </tr>\n",
       "    <tr>\n",
       "      <th>67910</th>\n",
       "      <td>ca7e72954550eeb610fe22bf0244b7fa</td>\n",
       "      <td>No finding</td>\n",
       "      <td>14</td>\n",
       "      <td>R1</td>\n",
       "      <td>NaN</td>\n",
       "      <td>NaN</td>\n",
       "      <td>NaN</td>\n",
       "      <td>NaN</td>\n",
       "    </tr>\n",
       "    <tr>\n",
       "      <th>67911</th>\n",
       "      <td>aa17d5312a0fb4a2939436abca7f9579</td>\n",
       "      <td>No finding</td>\n",
       "      <td>14</td>\n",
       "      <td>R8</td>\n",
       "      <td>NaN</td>\n",
       "      <td>NaN</td>\n",
       "      <td>NaN</td>\n",
       "      <td>NaN</td>\n",
       "    </tr>\n",
       "    <tr>\n",
       "      <th>67912</th>\n",
       "      <td>4b56bc6d22b192f075f13231419dfcc8</td>\n",
       "      <td>Cardiomegaly</td>\n",
       "      <td>3</td>\n",
       "      <td>R8</td>\n",
       "      <td>771.0</td>\n",
       "      <td>979.0</td>\n",
       "      <td>1680.0</td>\n",
       "      <td>1311.0</td>\n",
       "    </tr>\n",
       "    <tr>\n",
       "      <th>67913</th>\n",
       "      <td>5e272e3adbdaafb07a7e84a9e62b1a4c</td>\n",
       "      <td>No finding</td>\n",
       "      <td>14</td>\n",
       "      <td>R16</td>\n",
       "      <td>NaN</td>\n",
       "      <td>NaN</td>\n",
       "      <td>NaN</td>\n",
       "      <td>NaN</td>\n",
       "    </tr>\n",
       "  </tbody>\n",
       "</table>\n",
       "<p>67914 rows × 8 columns</p>\n",
       "</div>"
      ],
      "text/plain": [
       "                               image_id          class_name  class_id rad_id  \\\n",
       "0      50a418190bc3fb1ef1633bf9678929b3          No finding        14    R11   \n",
       "1      21a10246a5ec7af151081d0cd6d65dc9          No finding        14     R7   \n",
       "2      9a5094b2563a1ef3ff50dc5c7ff71345        Cardiomegaly         3    R10   \n",
       "3      051132a778e61a86eb147c7c6f564dfe  Aortic enlargement         0    R10   \n",
       "4      063319de25ce7edb9b1c6b8881290140          No finding        14    R10   \n",
       "...                                 ...                 ...       ...    ...   \n",
       "67909  936fd5cff1c058d39817a08f58b72cae          No finding        14     R1   \n",
       "67910  ca7e72954550eeb610fe22bf0244b7fa          No finding        14     R1   \n",
       "67911  aa17d5312a0fb4a2939436abca7f9579          No finding        14     R8   \n",
       "67912  4b56bc6d22b192f075f13231419dfcc8        Cardiomegaly         3     R8   \n",
       "67913  5e272e3adbdaafb07a7e84a9e62b1a4c          No finding        14    R16   \n",
       "\n",
       "        x_min   y_min   x_max   y_max  \n",
       "0         NaN     NaN     NaN     NaN  \n",
       "1         NaN     NaN     NaN     NaN  \n",
       "2       691.0  1375.0  1653.0  1831.0  \n",
       "3      1264.0   743.0  1611.0  1019.0  \n",
       "4         NaN     NaN     NaN     NaN  \n",
       "...       ...     ...     ...     ...  \n",
       "67909     NaN     NaN     NaN     NaN  \n",
       "67910     NaN     NaN     NaN     NaN  \n",
       "67911     NaN     NaN     NaN     NaN  \n",
       "67912   771.0   979.0  1680.0  1311.0  \n",
       "67913     NaN     NaN     NaN     NaN  \n",
       "\n",
       "[67914 rows x 8 columns]"
      ]
     },
     "execution_count": 3,
     "metadata": {},
     "output_type": "execute_result"
    }
   ],
   "source": [
    "train_df = pd.read_csv(TRAIN_CSV_DIR)\n",
    "# Extract data with abnormalities only\n",
    "train_df"
   ]
  },
  {
   "cell_type": "markdown",
   "metadata": {},
   "source": [
    "**So we have 15000 DICOM files, but 67914 labeled rows**"
   ]
  },
  {
   "cell_type": "code",
   "execution_count": 4,
   "metadata": {},
   "outputs": [
    {
     "data": {
      "text/html": [
       "<div>\n",
       "<style scoped>\n",
       "    .dataframe tbody tr th:only-of-type {\n",
       "        vertical-align: middle;\n",
       "    }\n",
       "\n",
       "    .dataframe tbody tr th {\n",
       "        vertical-align: top;\n",
       "    }\n",
       "\n",
       "    .dataframe thead th {\n",
       "        text-align: right;\n",
       "    }\n",
       "</style>\n",
       "<table border=\"1\" class=\"dataframe\">\n",
       "  <thead>\n",
       "    <tr style=\"text-align: right;\">\n",
       "      <th></th>\n",
       "      <th>image_id</th>\n",
       "      <th>class_name</th>\n",
       "      <th>class_id</th>\n",
       "      <th>rad_id</th>\n",
       "      <th>x_min</th>\n",
       "      <th>y_min</th>\n",
       "      <th>x_max</th>\n",
       "      <th>y_max</th>\n",
       "    </tr>\n",
       "  </thead>\n",
       "  <tbody>\n",
       "    <tr>\n",
       "      <th>2</th>\n",
       "      <td>9a5094b2563a1ef3ff50dc5c7ff71345</td>\n",
       "      <td>Cardiomegaly</td>\n",
       "      <td>3</td>\n",
       "      <td>R10</td>\n",
       "      <td>691.0</td>\n",
       "      <td>1375.0</td>\n",
       "      <td>1653.0</td>\n",
       "      <td>1831.0</td>\n",
       "    </tr>\n",
       "    <tr>\n",
       "      <th>3</th>\n",
       "      <td>051132a778e61a86eb147c7c6f564dfe</td>\n",
       "      <td>Aortic enlargement</td>\n",
       "      <td>0</td>\n",
       "      <td>R10</td>\n",
       "      <td>1264.0</td>\n",
       "      <td>743.0</td>\n",
       "      <td>1611.0</td>\n",
       "      <td>1019.0</td>\n",
       "    </tr>\n",
       "    <tr>\n",
       "      <th>5</th>\n",
       "      <td>1c32170b4af4ce1a3030eb8167753b06</td>\n",
       "      <td>Pleural thickening</td>\n",
       "      <td>11</td>\n",
       "      <td>R9</td>\n",
       "      <td>627.0</td>\n",
       "      <td>357.0</td>\n",
       "      <td>947.0</td>\n",
       "      <td>433.0</td>\n",
       "    </tr>\n",
       "    <tr>\n",
       "      <th>6</th>\n",
       "      <td>0c7a38f293d5f5e4846aa4ca6db4daf1</td>\n",
       "      <td>ILD</td>\n",
       "      <td>5</td>\n",
       "      <td>R17</td>\n",
       "      <td>1347.0</td>\n",
       "      <td>245.0</td>\n",
       "      <td>2188.0</td>\n",
       "      <td>2169.0</td>\n",
       "    </tr>\n",
       "    <tr>\n",
       "      <th>7</th>\n",
       "      <td>47ed17dcb2cbeec15182ed335a8b5a9e</td>\n",
       "      <td>Nodule/Mass</td>\n",
       "      <td>8</td>\n",
       "      <td>R9</td>\n",
       "      <td>557.0</td>\n",
       "      <td>2352.0</td>\n",
       "      <td>675.0</td>\n",
       "      <td>2484.0</td>\n",
       "    </tr>\n",
       "    <tr>\n",
       "      <th>...</th>\n",
       "      <td>...</td>\n",
       "      <td>...</td>\n",
       "      <td>...</td>\n",
       "      <td>...</td>\n",
       "      <td>...</td>\n",
       "      <td>...</td>\n",
       "      <td>...</td>\n",
       "      <td>...</td>\n",
       "    </tr>\n",
       "    <tr>\n",
       "      <th>67903</th>\n",
       "      <td>b53d1dd80e99ca6bcef9d592f65d3321</td>\n",
       "      <td>Pleural effusion</td>\n",
       "      <td>10</td>\n",
       "      <td>R9</td>\n",
       "      <td>240.0</td>\n",
       "      <td>1550.0</td>\n",
       "      <td>562.0</td>\n",
       "      <td>2001.0</td>\n",
       "    </tr>\n",
       "    <tr>\n",
       "      <th>67906</th>\n",
       "      <td>26d1d5a0ef2e692c6340e74859ffdc53</td>\n",
       "      <td>Pulmonary fibrosis</td>\n",
       "      <td>13</td>\n",
       "      <td>R10</td>\n",
       "      <td>1163.0</td>\n",
       "      <td>787.0</td>\n",
       "      <td>1338.0</td>\n",
       "      <td>941.0</td>\n",
       "    </tr>\n",
       "    <tr>\n",
       "      <th>67907</th>\n",
       "      <td>22672ab82c290c20b86863291e25ef6c</td>\n",
       "      <td>ILD</td>\n",
       "      <td>5</td>\n",
       "      <td>R9</td>\n",
       "      <td>299.0</td>\n",
       "      <td>664.0</td>\n",
       "      <td>794.0</td>\n",
       "      <td>1508.0</td>\n",
       "    </tr>\n",
       "    <tr>\n",
       "      <th>67908</th>\n",
       "      <td>db169d0be36123bd55b866d6aa73983b</td>\n",
       "      <td>Other lesion</td>\n",
       "      <td>9</td>\n",
       "      <td>R8</td>\n",
       "      <td>6.0</td>\n",
       "      <td>670.0</td>\n",
       "      <td>272.0</td>\n",
       "      <td>1736.0</td>\n",
       "    </tr>\n",
       "    <tr>\n",
       "      <th>67912</th>\n",
       "      <td>4b56bc6d22b192f075f13231419dfcc8</td>\n",
       "      <td>Cardiomegaly</td>\n",
       "      <td>3</td>\n",
       "      <td>R8</td>\n",
       "      <td>771.0</td>\n",
       "      <td>979.0</td>\n",
       "      <td>1680.0</td>\n",
       "      <td>1311.0</td>\n",
       "    </tr>\n",
       "  </tbody>\n",
       "</table>\n",
       "<p>36096 rows × 8 columns</p>\n",
       "</div>"
      ],
      "text/plain": [
       "                               image_id          class_name  class_id rad_id  \\\n",
       "2      9a5094b2563a1ef3ff50dc5c7ff71345        Cardiomegaly         3    R10   \n",
       "3      051132a778e61a86eb147c7c6f564dfe  Aortic enlargement         0    R10   \n",
       "5      1c32170b4af4ce1a3030eb8167753b06  Pleural thickening        11     R9   \n",
       "6      0c7a38f293d5f5e4846aa4ca6db4daf1                 ILD         5    R17   \n",
       "7      47ed17dcb2cbeec15182ed335a8b5a9e         Nodule/Mass         8     R9   \n",
       "...                                 ...                 ...       ...    ...   \n",
       "67903  b53d1dd80e99ca6bcef9d592f65d3321    Pleural effusion        10     R9   \n",
       "67906  26d1d5a0ef2e692c6340e74859ffdc53  Pulmonary fibrosis        13    R10   \n",
       "67907  22672ab82c290c20b86863291e25ef6c                 ILD         5     R9   \n",
       "67908  db169d0be36123bd55b866d6aa73983b        Other lesion         9     R8   \n",
       "67912  4b56bc6d22b192f075f13231419dfcc8        Cardiomegaly         3     R8   \n",
       "\n",
       "        x_min   y_min   x_max   y_max  \n",
       "2       691.0  1375.0  1653.0  1831.0  \n",
       "3      1264.0   743.0  1611.0  1019.0  \n",
       "5       627.0   357.0   947.0   433.0  \n",
       "6      1347.0   245.0  2188.0  2169.0  \n",
       "7       557.0  2352.0   675.0  2484.0  \n",
       "...       ...     ...     ...     ...  \n",
       "67903   240.0  1550.0   562.0  2001.0  \n",
       "67906  1163.0   787.0  1338.0   941.0  \n",
       "67907   299.0   664.0   794.0  1508.0  \n",
       "67908     6.0   670.0   272.0  1736.0  \n",
       "67912   771.0   979.0  1680.0  1311.0  \n",
       "\n",
       "[36096 rows x 8 columns]"
      ]
     },
     "execution_count": 4,
     "metadata": {},
     "output_type": "execute_result"
    }
   ],
   "source": [
    "train_df = train_df.query('class_id != 14')\n",
    "# train_df = train_df.query(\"rad_id == 'R9'\")\n",
    "train_df"
   ]
  },
  {
   "cell_type": "markdown",
   "metadata": {},
   "source": [
    "**If considering only abnormal cases, we have 36096 cases**"
   ]
  },
  {
   "cell_type": "markdown",
   "metadata": {},
   "source": [
    "Visualize data distribution"
   ]
  },
  {
   "cell_type": "code",
   "execution_count": 5,
   "metadata": {},
   "outputs": [
    {
     "data": {
      "image/png": "[encoded data removed]",
      "text/plain": [
       "<Figure size 1440x360 with 1 Axes>"
      ]
     },
     "metadata": {
      "needs_background": "light"
     },
     "output_type": "display_data"
    }
   ],
   "source": [
    "plt.figure(figsize=(20,5))\n",
    "sns.countplot(x = 'class_name', data = train_df)\n",
    "plt.title('Class ID distribution')\n",
    "plt.show()"
   ]
  },
  {
   "cell_type": "code",
   "execution_count": 6,
   "metadata": {},
   "outputs": [
    {
     "data": {
      "image/png": "[encoded data removed]",
      "text/plain": [
       "<Figure size 1440x360 with 1 Axes>"
      ]
     },
     "metadata": {
      "needs_background": "light"
     },
     "output_type": "display_data"
    }
   ],
   "source": [
    "plt.figure(figsize=(20,5))\n",
    "sns.countplot(x = 'class_id', data = train_df)\n",
    "plt.title('Class ID distribution')\n",
    "plt.show()"
   ]
  },
  {
   "cell_type": "markdown",
   "metadata": {},
   "source": [
    "We will only examine the data with abnormality! However, we can divide this challenge into 2 steps: step 1 will be classication model and the second one will be the object detection. "
   ]
  },
  {
   "cell_type": "code",
   "execution_count": 7,
   "metadata": {},
   "outputs": [
    {
     "data": {
      "image/png": "[encoded data removed]",
      "text/plain": [
       "<Figure size 1440x360 with 1 Axes>"
      ]
     },
     "metadata": {
      "needs_background": "light"
     },
     "output_type": "display_data"
    }
   ],
   "source": [
    "plt.figure(figsize=(20,5))\n",
    "sns.countplot(x = 'rad_id', data = train_df)\n",
    "plt.title('Rad ID distribution')\n",
    "plt.show()"
   ]
  },
  {
   "cell_type": "code",
   "execution_count": 8,
   "metadata": {},
   "outputs": [
    {
     "name": "stdout",
     "output_type": "stream",
     "text": [
      "Unique image_id in  train:  4394\n"
     ]
    }
   ],
   "source": [
    "print(\"Unique image_id in  train: \", train_df['image_id'].nunique())"
   ]
  },
  {
   "cell_type": "markdown",
   "metadata": {},
   "source": [
    "**And only 4394 DICOM file contain abnormality**"
   ]
  },
  {
   "cell_type": "code",
   "execution_count": 9,
   "metadata": {},
   "outputs": [
    {
     "data": {
      "text/plain": [
       "class_id\n",
       "0     7162\n",
       "1      279\n",
       "2      960\n",
       "3     5427\n",
       "4      556\n",
       "5     1000\n",
       "6     1247\n",
       "7     2483\n",
       "8     2580\n",
       "9     2203\n",
       "10    2476\n",
       "11    4842\n",
       "12     226\n",
       "13    4655\n",
       "Name: image_id, dtype: int64"
      ]
     },
     "execution_count": 9,
     "metadata": {},
     "output_type": "execute_result"
    }
   ],
   "source": [
    "train_df.groupby('class_id').image_id.count()"
   ]
  },
  {
   "cell_type": "markdown",
   "metadata": {
    "pycharm": {
     "name": "#%% md\n"
    }
   },
   "source": [
    "### Function convert DICOM data to np.array\n"
   ]
  },
  {
   "cell_type": "code",
   "execution_count": 10,
   "metadata": {
    "collapsed": false,
    "jupyter": {
     "outputs_hidden": false
    },
    "pycharm": {
     "name": "#%%\n"
    }
   },
   "outputs": [],
   "source": [
    "def dicom2array(path, voi_lut=True, fix_monochrome=True):\n",
    "    dicom = pydicom.read_file(path)\n",
    "    # VOI LUT (if available by DICOM device) is used to\n",
    "    # transform raw DICOM data to \"human-friendly\" view\n",
    "    if voi_lut:\n",
    "        data = apply_voi_lut(dicom.pixel_array, dicom)\n",
    "    else:\n",
    "        data = dicom.pixel_array\n",
    "    # depending on this value, X-ray may look inverted - fix that:\n",
    "    if fix_monochrome and dicom.PhotometricInterpretation == \"MONOCHROME1\":\n",
    "        data = np.amax(data) - data\n",
    "\n",
    "    data = data - np.min(data)\n",
    "    data = data / np.max(data)\n",
    "    data = (data * 255).astype(np.uint8)\n",
    "\n",
    "    return data\n"
   ]
  },
  {
   "cell_type": "markdown",
   "metadata": {},
   "source": [
    "# Accelarate cv2.imwrite "
   ]
  },
  {
   "cell_type": "code",
   "execution_count": 11,
   "metadata": {},
   "outputs": [],
   "source": [
    "import glob\n",
    "import os\n",
    "import cv2\n",
    "import concurrent.futures"
   ]
  },
  {
   "cell_type": "code",
   "execution_count": 12,
   "metadata": {},
   "outputs": [
    {
     "name": "stderr",
     "output_type": "stream",
     "text": [
      "100%|██████████| 36096/36096 [47:24:35<00:00,  4.73s/it]    \n"
     ]
    }
   ],
   "source": [
    "diagnostic_per_image = []\n",
    "\n",
    "image_size=512\n",
    "with tqdm(total=len(train_df)) as pbar:\n",
    "    for idx,row in train_df.iterrows():\n",
    "        image_id = row.image_id\n",
    "        image_df = train_df.query(\"image_id==@image_id\")\n",
    "        class_list = []\n",
    "        RLE_list = []\n",
    "\n",
    "        for diagnostic_id, diagnostic in image_df.iterrows():\n",
    "\n",
    "            class_list = diagnostic.class_id\n",
    "\n",
    "            dicom_image = dicom2array(TRAIN_DIR + '/' + image_id+\".dicom\")\n",
    "            image_dimensions = dicom_image.shape\n",
    "\n",
    "            resized_img = cv2.resize(dicom_image, (image_size,image_size), interpolation = cv2.INTER_AREA)\n",
    "\n",
    "            os.chdir(PREPROCESSED_TRAINING_IMAGE_FOLDER)\n",
    "\n",
    "\n",
    "            cv2.imwrite(PREPROCESSED_TRAINING_IMAGE_FOLDER+ image_id+ \".jpg\", resized_img)\n",
    "            ratio_h = 512/dicom_image.shape[1]\n",
    "            ratio_w = 512/dicom_image.shape[0]\n",
    "            x_min_new = int(diagnostic.x_min*ratio_h)\n",
    "            y_min_new = int(diagnostic.y_min*ratio_w)\n",
    "            x_max_new = int(diagnostic.x_max*ratio_h)\n",
    "            y_max_new = int(diagnostic.y_max*ratio_w)\n",
    "\n",
    "            diagnostic_per_image.append({\"image_id\":image_id,\n",
    "                                         \"CategoryId\":class_list,\n",
    "                                         'x_min': x_min_new,\n",
    "                                        'y_min': y_min_new,\n",
    "                                        'x_max': x_max_new,\n",
    "                                        'y_max': y_max_new,\n",
    "                                        'w_org': dicom_image.shape[0],\n",
    "                                        'h_org': dicom_image.shape[1]})\n",
    "        pbar.update(1)"
   ]
  },
  {
   "cell_type": "code",
   "execution_count": 13,
   "metadata": {},
   "outputs": [],
   "source": [
    "samples_df = pd.DataFrame(diagnostic_per_image)\n",
    "# samples_df[\"Height\"] = image_size\n",
    "# samples_df[\"Width\"] = image_size\n",
    "samples_df.head()\n",
    "#\n",
    "samples_df.to_csv('sample_dfq.csv', index=False)"
   ]
  },
  {
   "cell_type": "code",
   "execution_count": 14,
   "metadata": {},
   "outputs": [
    {
     "data": {
      "text/html": [
       "<div>\n",
       "<style scoped>\n",
       "    .dataframe tbody tr th:only-of-type {\n",
       "        vertical-align: middle;\n",
       "    }\n",
       "\n",
       "    .dataframe tbody tr th {\n",
       "        vertical-align: top;\n",
       "    }\n",
       "\n",
       "    .dataframe thead th {\n",
       "        text-align: right;\n",
       "    }\n",
       "</style>\n",
       "<table border=\"1\" class=\"dataframe\">\n",
       "  <thead>\n",
       "    <tr style=\"text-align: right;\">\n",
       "      <th></th>\n",
       "      <th>image_id</th>\n",
       "      <th>CategoryId</th>\n",
       "      <th>x_min</th>\n",
       "      <th>y_min</th>\n",
       "      <th>x_max</th>\n",
       "      <th>y_max</th>\n",
       "      <th>w_org</th>\n",
       "      <th>h_org</th>\n",
       "    </tr>\n",
       "  </thead>\n",
       "  <tbody>\n",
       "    <tr>\n",
       "      <th>0</th>\n",
       "      <td>9a5094b2563a1ef3ff50dc5c7ff71345</td>\n",
       "      <td>3</td>\n",
       "      <td>170</td>\n",
       "      <td>301</td>\n",
       "      <td>406</td>\n",
       "      <td>401</td>\n",
       "      <td>2336</td>\n",
       "      <td>2080</td>\n",
       "    </tr>\n",
       "    <tr>\n",
       "      <th>1</th>\n",
       "      <td>9a5094b2563a1ef3ff50dc5c7ff71345</td>\n",
       "      <td>10</td>\n",
       "      <td>440</td>\n",
       "      <td>378</td>\n",
       "      <td>461</td>\n",
       "      <td>436</td>\n",
       "      <td>2336</td>\n",
       "      <td>2080</td>\n",
       "    </tr>\n",
       "    <tr>\n",
       "      <th>2</th>\n",
       "      <td>9a5094b2563a1ef3ff50dc5c7ff71345</td>\n",
       "      <td>11</td>\n",
       "      <td>440</td>\n",
       "      <td>378</td>\n",
       "      <td>461</td>\n",
       "      <td>436</td>\n",
       "      <td>2336</td>\n",
       "      <td>2080</td>\n",
       "    </tr>\n",
       "  </tbody>\n",
       "</table>\n",
       "</div>"
      ],
      "text/plain": [
       "                           image_id  CategoryId  x_min  y_min  x_max  y_max  \\\n",
       "0  9a5094b2563a1ef3ff50dc5c7ff71345           3    170    301    406    401   \n",
       "1  9a5094b2563a1ef3ff50dc5c7ff71345          10    440    378    461    436   \n",
       "2  9a5094b2563a1ef3ff50dc5c7ff71345          11    440    378    461    436   \n",
       "\n",
       "   w_org  h_org  \n",
       "0   2336   2080  \n",
       "1   2336   2080  \n",
       "2   2336   2080  "
      ]
     },
     "execution_count": 14,
     "metadata": {},
     "output_type": "execute_result"
    }
   ],
   "source": [
    "samples_df[:3]"
   ]
  },
  {
   "cell_type": "code",
   "execution_count": null,
   "metadata": {},
   "outputs": [],
   "source": []
  }
 ],
 "metadata": {
  "kernelspec": {
   "display_name": "Python 3",
   "language": "python",
   "name": "python3"
  },
  "language_info": {
   "codemirror_mode": {
    "name": "ipython",
    "version": 3
   },
   "file_extension": ".py",
   "mimetype": "text/x-python",
   "name": "python",
   "nbconvert_exporter": "python",
   "pygments_lexer": "ipython3",
   "version": "3.7.9"
  }
 },
 "nbformat": 4,
 "nbformat_minor": 4
}
