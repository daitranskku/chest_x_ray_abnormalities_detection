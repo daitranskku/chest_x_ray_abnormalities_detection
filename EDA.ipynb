{
 "cells": [
  {
   "cell_type": "markdown",
   "source": [
    "# Tổng hợp code từ sources:\n",
    "1. https://www.kaggle.com/dschettler8845/visual-in-depth-eda-vinbigdata-competition-data\n",
    "2. https://www.kaggle.com/sakuraandblackcat/chest-x-ray-knowledges-for-the-14-abnormalities"
   ],
   "metadata": {
    "collapsed": false,
    "pycharm": {
     "name": "#%% md\n",
     "is_executing": true
    }
   }
  },
  {
   "cell_type": "markdown",
   "source": [
    "## Tổng quan\n",
    "\n",
    "Dữ liệu được lưu dưới định dạng DICOM\n",
    "\n",
    "Tập train với 15,000 ảnh\n",
    "\n",
    "Tập public test với 3,000 ảnh\n",
    "\n",
    "Ảnh được gắn với 14 nhãn:\n",
    "\n",
    "0 - Aortic enlargement\n",
    "\n",
    "1 - Atelectasis\n",
    "\n",
    "2 - Calcification\n",
    "\n",
    "3 - Cardiomegaly\n",
    "\n",
    "4 - Consolidation\n",
    "\n",
    "5 - ILD\n",
    "\n",
    "6 - Infiltration\n",
    "\n",
    "7 - Lung Opacity\n",
    "\n",
    "8 - Nodule/Mass\n",
    "\n",
    "9 - Other lesion\n",
    "\n",
    "10 - Pleural effusion\n",
    "\n",
    "11 - Pleural thickening\n",
    "\n",
    "12 - Pneumothorax\n",
    "\n",
    "13 - Pulmonary fibrosis\n",
    "\n",
    "14 - \"No finding\" observation was intended to capture the absence of all findings above\n",
    "\n",
    "**Ở đây nhãn được gắn bởi nhiều chuyên gia X quang, nghĩa là một ảnh sẽ có nhiều ground-truth!**\n",
    "\n",
    "### Dữ liệu mẫu\n",
    "\n",
    "Mô tả dữ liệu:\n",
    "\n",
    "train.csv: metadata của tập train, với mỗi hàng là một mẫu ảnh, bao gồm tên nhãn và bounding box (một ảnh có thể có nhiều hàng)\n",
    "\n",
    "![figures](figures/overview_data.PNG)\n",
    "\n",
    "Các cột trong train.csv\n",
    "\n",
    "- image_id: tên dữ liệu\n",
    "- class_name: tên của nhãn có trong ảnh (nêu không có thì hiện \"No finding\")\n",
    "- class_id: ID của nhãn có trong ảnh (từ 0 đến 14)\n",
    "- rad_id: ID của chuyên gia X quang, người gắn nhãn\n",
    "- x_min: minimum X coordinate of the object's bounding box\n",
    "- y_min: minimum Y coordinate of the object's bounding box\n",
    "- x_max: maximum X coordinate of the object's bounding box\n",
    "- y_max: maximum Y coordinate of the object's bounding box\n",
    "\n",
    "sample_submission.csv: sample submission file in the correct format\n",
    "\n",
    "**Đầu ra của bài toán là một model có thể khoanh vùng và phân loại 14 loại bất thưởng trong ảnh**\n",
    "\n",
    "Tìm hiểu sâu về 14 loại bất thường có thể tham khảo repo sau:\n",
    "\n",
    "[https://www.kaggle.com/sakuraandblackcat/chest-x-ray-knowledges-for-the-14-abnormalities](https://www.kaggle.com/sakuraandblackcat/chest-x-ray-knowledges-for-the-14-abnormalities)\n"
   ],
   "metadata": {
    "collapsed": false,
    "pycharm": {
     "name": "#%% md\n"
    }
   }
  },
  {
   "cell_type": "markdown",
   "source": [
    "## Visualize dữ liệu"
   ],
   "metadata": {
    "collapsed": false,
    "pycharm": {
     "name": "#%% md\n"
    }
   }
  },
  {
   "cell_type": "markdown",
   "source": [
    "#### Import libraries"
   ],
   "metadata": {
    "collapsed": false
   }
  },
  {
   "cell_type": "code",
   "execution_count": 1,
   "outputs": [],
   "source": [
    "import os\n",
    "from tqdm import tqdm\n",
    "import sys\n",
    "\n",
    "import pandas as pd\n",
    "import numpy as np\n",
    "import matplotlib.pyplot as plt\n",
    "\n",
    "import tensorflow as tf"
   ],
   "metadata": {
    "collapsed": false,
    "pycharm": {
     "name": "#%%\n"
    }
   }
  },
  {
   "cell_type": "markdown",
   "source": [
    "#### Setup global variables"
   ],
   "metadata": {
    "collapsed": false
   }
  },
  {
   "cell_type": "code",
   "execution_count": 8,
   "outputs": [],
   "source": [
    "DATA_DIR = \"E:/Kaggle/VinBigData\"\n",
    "\n",
    "# Define the paths to the training and testing dicom folders respectively\n",
    "TRAIN_DIR = os.path.join(DATA_DIR, \"train\")\n",
    "TEST_DIR = os.path.join(DATA_DIR, \"test\")"
   ],
   "metadata": {
    "collapsed": false,
    "pycharm": {
     "name": "#%%\n"
    }
   }
  },
  {
   "cell_type": "code",
   "execution_count": 9,
   "outputs": [
    {
     "name": "stdout",
     "output_type": "stream",
     "text": [
      "\n",
      "... The number of training files is 15000 ...\n",
      "... The number of testing files is 3000 ...\n"
     ]
    }
   ],
   "source": [
    "# Capture all the relevant full train/test paths\n",
    "TRAIN_DICOM_PATHS = [os.path.join(TRAIN_DIR, f_name) for f_name in os.listdir(TRAIN_DIR)]\n",
    "TEST_DICOM_PATHS = [os.path.join(TEST_DIR, f_name) for f_name in os.listdir(TEST_DIR)]\n",
    "print(f\"\\n... The number of training files is {len(TRAIN_DICOM_PATHS)} ...\")\n",
    "print(f\"... The number of testing files is {len(TEST_DICOM_PATHS)} ...\")"
   ],
   "metadata": {
    "collapsed": false,
    "pycharm": {
     "name": "#%%\n"
    }
   }
  },
  {
   "cell_type": "code",
   "execution_count": 10,
   "outputs": [],
   "source": [
    "# Define paths to the relevant csv files\n",
    "TRAIN_CSV = os.path.join(DATA_DIR, \"train.csv\")\n",
    "SS_CSV = os.path.join(DATA_DIR, \"sample_submission.csv\")\n"
   ],
   "metadata": {
    "collapsed": false,
    "pycharm": {
     "name": "#%%\n"
    }
   }
  },
  {
   "cell_type": "code",
   "execution_count": 14,
   "outputs": [],
   "source": [
    "# Create the relevant dataframe objects\n",
    "train_df = pd.read_csv(TRAIN_CSV)\n",
    "ss_df = pd.read_csv(SS_CSV)"
   ],
   "metadata": {
    "collapsed": false,
    "pycharm": {
     "name": "#%%\n"
    }
   }
  },
  {
   "cell_type": "code",
   "execution_count": 15,
   "outputs": [
    {
     "name": "stdout",
     "output_type": "stream",
     "text": [
      "\n",
      "\n",
      "TRAIN DATAFRAME\n",
      "\n",
      "\n"
     ]
    },
    {
     "data": {
      "text/plain": "                           image_id    class_name  class_id rad_id  x_min  \\\n0  50a418190bc3fb1ef1633bf9678929b3    No finding        14    R11    NaN   \n1  21a10246a5ec7af151081d0cd6d65dc9    No finding        14     R7    NaN   \n2  9a5094b2563a1ef3ff50dc5c7ff71345  Cardiomegaly         3    R10  691.0   \n\n    y_min   x_max   y_max  \n0     NaN     NaN     NaN  \n1     NaN     NaN     NaN  \n2  1375.0  1653.0  1831.0  ",
      "text/html": "<div>\n<style scoped>\n    .dataframe tbody tr th:only-of-type {\n        vertical-align: middle;\n    }\n\n    .dataframe tbody tr th {\n        vertical-align: top;\n    }\n\n    .dataframe thead th {\n        text-align: right;\n    }\n</style>\n<table border=\"1\" class=\"dataframe\">\n  <thead>\n    <tr style=\"text-align: right;\">\n      <th></th>\n      <th>image_id</th>\n      <th>class_name</th>\n      <th>class_id</th>\n      <th>rad_id</th>\n      <th>x_min</th>\n      <th>y_min</th>\n      <th>x_max</th>\n      <th>y_max</th>\n    </tr>\n  </thead>\n  <tbody>\n    <tr>\n      <th>0</th>\n      <td>50a418190bc3fb1ef1633bf9678929b3</td>\n      <td>No finding</td>\n      <td>14</td>\n      <td>R11</td>\n      <td>NaN</td>\n      <td>NaN</td>\n      <td>NaN</td>\n      <td>NaN</td>\n    </tr>\n    <tr>\n      <th>1</th>\n      <td>21a10246a5ec7af151081d0cd6d65dc9</td>\n      <td>No finding</td>\n      <td>14</td>\n      <td>R7</td>\n      <td>NaN</td>\n      <td>NaN</td>\n      <td>NaN</td>\n      <td>NaN</td>\n    </tr>\n    <tr>\n      <th>2</th>\n      <td>9a5094b2563a1ef3ff50dc5c7ff71345</td>\n      <td>Cardiomegaly</td>\n      <td>3</td>\n      <td>R10</td>\n      <td>691.0</td>\n      <td>1375.0</td>\n      <td>1653.0</td>\n      <td>1831.0</td>\n    </tr>\n  </tbody>\n</table>\n</div>"
     },
     "metadata": {},
     "output_type": "display_data"
    }
   ],
   "source": [
    "print(\"\\n\\nTRAIN DATAFRAME\\n\\n\")\n",
    "display(train_df.head(3))"
   ],
   "metadata": {
    "collapsed": false,
    "pycharm": {
     "name": "#%%\n"
    }
   }
  },
  {
   "cell_type": "code",
   "execution_count": 16,
   "outputs": [
    {
     "name": "stdout",
     "output_type": "stream",
     "text": [
      "\n",
      "\n",
      "SAMPLE SUBMISSION DATAFRAME\n",
      "\n",
      "\n"
     ]
    },
    {
     "data": {
      "text/plain": "                           image_id PredictionString\n0  002a34c58c5b758217ed1f584ccbcfe9     14 1 0 0 1 1\n1  004f33259ee4aef671c2b95d54e4be68     14 1 0 0 1 1\n2  008bdde2af2462e86fd373a445d0f4cd     14 1 0 0 1 1",
      "text/html": "<div>\n<style scoped>\n    .dataframe tbody tr th:only-of-type {\n        vertical-align: middle;\n    }\n\n    .dataframe tbody tr th {\n        vertical-align: top;\n    }\n\n    .dataframe thead th {\n        text-align: right;\n    }\n</style>\n<table border=\"1\" class=\"dataframe\">\n  <thead>\n    <tr style=\"text-align: right;\">\n      <th></th>\n      <th>image_id</th>\n      <th>PredictionString</th>\n    </tr>\n  </thead>\n  <tbody>\n    <tr>\n      <th>0</th>\n      <td>002a34c58c5b758217ed1f584ccbcfe9</td>\n      <td>14 1 0 0 1 1</td>\n    </tr>\n    <tr>\n      <th>1</th>\n      <td>004f33259ee4aef671c2b95d54e4be68</td>\n      <td>14 1 0 0 1 1</td>\n    </tr>\n    <tr>\n      <th>2</th>\n      <td>008bdde2af2462e86fd373a445d0f4cd</td>\n      <td>14 1 0 0 1 1</td>\n    </tr>\n  </tbody>\n</table>\n</div>"
     },
     "metadata": {},
     "output_type": "display_data"
    }
   ],
   "source": [
    "print(\"\\n\\nSAMPLE SUBMISSION DATAFRAME\\n\\n\")\n",
    "display(ss_df.head(3))"
   ],
   "metadata": {
    "collapsed": false,
    "pycharm": {
     "name": "#%%\n"
    }
   }
  },
  {
   "cell_type": "code",
   "execution_count": null,
   "outputs": [],
   "source": [],
   "metadata": {
    "collapsed": false,
    "pycharm": {
     "name": "#%%\n"
    }
   }
  }
 ],
 "metadata": {
  "kernelspec": {
   "display_name": "Python 3",
   "language": "python",
   "name": "python3"
  },
  "language_info": {
   "codemirror_mode": {
    "name": "ipython",
    "version": 2
   },
   "file_extension": ".py",
   "mimetype": "text/x-python",
   "name": "python",
   "nbconvert_exporter": "python",
   "pygments_lexer": "ipython2",
   "version": "2.7.6"
  }
 },
 "nbformat": 4,
 "nbformat_minor": 0
}