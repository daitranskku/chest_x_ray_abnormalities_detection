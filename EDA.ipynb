{
 "cells": [
  {
   "cell_type": "markdown",
   "source": [
    "# Tổng hợp code từ sources:\n",
    "1. https://www.kaggle.com/dschettler8845/visual-in-depth-eda-vinbigdata-competition-data"
   ],
   "metadata": {
    "collapsed": false,
    "pycharm": {
     "name": "#%% md\n",
     "is_executing": true
    }
   }
  },
  {
   "cell_type": "code",
   "execution_count": 6,
   "metadata": {
    "collapsed": true
   },
   "outputs": [],
   "source": [
    "import os\n",
    "from tqdm import tqdm\n",
    "import sys\n",
    "\n",
    "import pandas as pd\n",
    "import numpy as np\n",
    "import matplotlib.pyplot as plt\n",
    "\n",
    "import tensorflow as tf"
   ]
  },
  {
   "cell_type": "markdown",
   "source": [
    "### Setup global variables"
   ],
   "metadata": {
    "collapsed": false,
    "pycharm": {
     "name": "#%% md\n"
    }
   }
  },
  {
   "cell_type": "code",
   "execution_count": 3,
   "outputs": [],
   "source": [
    "PATH_TRAIN_DATA = 'E:/Kaggle/VinBigData/train/'\n",
    "PATH_TEST_DATA = 'E:/Kaggle/VinBigData/test/'\n"
   ],
   "metadata": {
    "collapsed": false,
    "pycharm": {
     "name": "#%%\n"
    }
   }
  },
  {
   "cell_type": "markdown",
   "source": [
    "## Tổng quan\n",
    "\n",
    "Dữ liệu được lưu dưới định dạng DICOM\n",
    "\n",
    "Tập train với 15,000 ảnh\n",
    "\n",
    "Tập public test với 3,000 ảnh\n",
    "\n",
    "Ảnh được gắn với 14 nhãn:\n",
    "\n",
    "0 - Aortic enlargement\n",
    "\n",
    "1 - Atelectasis\n",
    "\n",
    "2 - Calcification\n",
    "\n",
    "3 - Cardiomegaly\n",
    "\n",
    "4 - Consolidation\n",
    "\n",
    "5 - ILD\n",
    "\n",
    "6 - Infiltration\n",
    "\n",
    "7 - Lung Opacity\n",
    "\n",
    "8 - Nodule/Mass\n",
    "\n",
    "9 - Other lesion\n",
    "\n",
    "10 - Pleural effusion\n",
    "\n",
    "11 - Pleural thickening\n",
    "\n",
    "12 - Pneumothorax\n",
    "\n",
    "13 - Pulmonary fibrosis\n",
    "\n",
    "14 - \"No finding\" observation was intended to capture the absence of all findings above\n",
    "\n",
    "Một lưu ý theo ....\n",
    "\n",
    "### Dữ liệu mẫu\n",
    "\n",
    "Mô tả dữ liệu:\n",
    "\n",
    "train.csv: metadata của tập train, với mỗi hàng là một mẫu ảnh, bao gồm tên nhãn và bounding box (một ảnh có thể có nhiều hàng)\n",
    "\n",
    "![figures/overview_data](figures/overview_data.PNG)\n",
    "\n",
    "sample_submission.csv: sample submission file in the correct format\n"
   ],
   "metadata": {
    "collapsed": false,
    "pycharm": {
     "name": "#%% md\n"
    }
   }
  }
 ],
 "metadata": {
  "kernelspec": {
   "display_name": "Python 3",
   "language": "python",
   "name": "python3"
  },
  "language_info": {
   "codemirror_mode": {
    "name": "ipython",
    "version": 2
   },
   "file_extension": ".py",
   "mimetype": "text/x-python",
   "name": "python",
   "nbconvert_exporter": "python",
   "pygments_lexer": "ipython2",
   "version": "2.7.6"
  }
 },
 "nbformat": 4,
 "nbformat_minor": 0
}